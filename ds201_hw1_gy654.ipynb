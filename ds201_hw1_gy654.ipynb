{
 "cells": [
  {
   "cell_type": "markdown",
   "metadata": {},
   "source": [
    "<h1><center>DS UA 9201 Problem Set 1</center></h1>\n",
    "<h1><center>Grace Yang (gy654)</center></h1>\n",
    "<h1><center>Due: Oct 11th</center></h1>"
   ]
  },
  {
   "cell_type": "markdown",
   "metadata": {},
   "source": [
    "# Exercise1: Salk Vaccine Field Trial\n",
    "Polio claimed hundreds of thousands of victims from 1916-1956. It affected mainly children. By the 1950s, several vaccines had been discovered and successfully tested in the lab. The most promising one had been proposed by Jonas Salk. \n",
    "By 1954 public health service was ready to try the vaccine in the real world, i.e. outside the lab on patients. \n",
    "\n",
    "## Question1:\n",
    "What if the vaccine had just be given to a large number of children in 1954? Would this have allowed to conclude on the efficiency of the treatment, for instance by looking at the polio cases in the following years?\n"
   ]
  },
  {
   "cell_type": "markdown",
   "metadata": {},
   "source": [
    "Several important assumptions have to be checked to evaluate the efficiency of the treatment.  We have to assume that the vaccine treatment has the same effect on different individuals. Is the quality of vaccine uniform? An accurate estimation of ATE also relies on the assumption of no interference, which means whether a child receives the treatment is independent on his or her neighbors' choice. These assumptions are not guaranteed, therefore the SUTVA assumption is partially violated. Also, we cannot ensure that the outcome is independent of the treatment. We may see population bias if the vaccination was mainly distributed in neighborhoods near the lab, there might be chances that residents in those neighborhoods are prone to infection than people living in other area due to some particular features of the geographical location (have a denser population, being a transportation hub, have more children etc.). Then the ignorability assumption is violated and the ATE estimator cannot accurately quantify the average treatment effect. The vaccine may also take more than a year to show effects, so the infection statistics next year is informative but insufficient for us to conclude the effectiveness of the vaccine. Also, there might be other variables contributing to the number of children infected by polio. If in 1955, there is a greater surge in national birth rate, more children will be infected due to the increasing base rate even through the vaccine might be effective. Similarly, if people have to practice social distancing due to another pandamic, the number of children infected with polio next year will also drop significantly due to the reduction of interpersonal contact. We are unable to conclude that the vaccine is effective in this case. However, if the SUTVA and ignorability assumptions hold, we can calculate ATE and evaluate the effectivess of vaccine based on the result of hypothesis tests. "
   ]
  },
  {
   "cell_type": "markdown",
   "metadata": {},
   "source": [
    "## Question2\n",
    "Instead, the vaccine is given to a treatment group and not to a control group. Treatment and controp group are defined via the parent's permission to treat their children. (parent's permission is required to vaccineate children). Is this a valid randomization strategy to test the effect of the vaccine? Justify your answers. \n"
   ]
  },
  {
   "cell_type": "markdown",
   "metadata": {},
   "source": [
    "This is not a randomized strategy to test the effect of the vaccine since the ignorability assumption is violated and the outcome is not independent of the treatment. \n",
    "$$ E[Y_i(1)|T_i=0] \\neq E[Y_i(1)|T_i = 1]$$ \n",
    "Consequently, the observed average number of children infected by polio after vaccination is not representative of what we would observe on average if every children receive the vaccine. For instance, children whose parants have basic domain knowledge about polio appreciate the importance of vaccine and are more likely to approve their children of being vaccinated. Even without vaccination, their children are less likely to be exposed to polio virus because their parents in general shield them from visiting places with higher risks of infection. Also the vaccine may have side effects on children with weaker immunity, so some parents are wary about vaccinating children for fear of those side effects. However, children with weaker immunity are more likely to be infected by polio than their peers. Apart from that, the non interference condition in SUTVA assumption may not hold. The parent's decision is dependent on the choice of other parents. There is a higher chance that a parent will aggree to vaccination if it is a popular choice among parents in this neighborhood. The vaccine treatment may also have disparate effects on individuals from different subgroups. Unless the SUTVA and ignorability assumption are satisfied, the strategy is not sufficiently randomized to test the effect of the vaccine. "
   ]
  },
  {
   "cell_type": "markdown",
   "metadata": {},
   "source": [
    "## Question3:\n",
    "What is a better alternative to the above strategy?"
   ]
  },
  {
   "cell_type": "markdown",
   "metadata": {},
   "source": [
    "A better alternative is to only include children with parents' consent of vaccination. Among these children, assign treatment based on bernoulli trials or doing complete randomization. If researchers want 50 percent of the children population to receive treatment, they can assign vaccination to each child based on a simulated n=1 bernoulli trial with parameter p = 0.5. In this case, each child receives vaccine independently with 50% probability. Roughly 50 percent of the children will receive the treatment while others become the control group. Alternatively, researchers could achieve randomization by sampling an exact 50 percent of children from a uniform distribution. Each child has the same unconditional probability of being selected into treatment. In these cases, the ignorability and SUTVA assumptions hold, and the outcome is independent of treatment. The test is randomized enough for us to evaluate the effect of the vaccine. "
   ]
  },
  {
   "cell_type": "markdown",
   "metadata": {},
   "source": [
    "# Exercise2: Average Treatment Effect on the Treated \n",
    "Suppose we have a sample of observations, each assigned a binary treatment $T_i \\in \\{0,1\\}$ with $T_i=1$ indicating a unit is treated and $T_i =0$ indicating the unit is assigned control. Assume $0< Pr(T_i=1)<1$. We observe an outcome $Y_i$ for each observation. We define potential outcomes $Y_i(1)$ and $Y_i(0)$, denoting the outcome observed for each unit $i$ if it were assigned treatment $(Y_i(1))$ or control $(Y_i(0))$ respectively. Assume that $Y_i(1), Y_i(0)$ are iid from the same distribution, which implies that: $E[Y_1(t)]=...=E[Y_n(t)] = \\mu(t)$ and $Var[Y_1(t)] = ...= Var[Y_n(t)] = \\sigma^2(t)$.\n",
    "In class we have talked about the Average Treatment Effect (ATE), which is defined as: $\\tau^t = E[Y_i(1)-Y_i(0)|T_i = 1]$\n",
    "\n",
    "# Question1:\n",
    "What is the interpretation of the ATT? Give your description of what this effect means and how it is different from the ATE."
   ]
  },
  {
   "cell_type": "markdown",
   "metadata": {},
   "source": [
    "The average treatment effect among the treated(ATT) is $$ATT = E[Y_i(1) - Y_i(0) | T_i = 1]$$, which tells us for those treated, how much the outcome would differ on average as a consequence of treatment these individuals receive. \n",
    "\n",
    "The average treatment effect (ATE) is: $$\\tau = E[Y_i(1) - Y_i(0)]$$, which tells us how much the outcome would differ on average on all individuals as a consequence of treatment, regardless of whether they receive the treatment in reality. \n",
    "\n",
    "ATE and ATT can be close to each other when the ignorability assumption holds. However, the ATE and the ATT may differ due to treatment heterogeneity across populations. "
   ]
  },
  {
   "cell_type": "markdown",
   "metadata": {},
   "source": [
    "## Question 2\n",
    "We assume that: \n",
    "- The Stable Unit Treatment Values Assumption holds for all treatment lavels: $$Y_i = Y_i(1)T_i + Y_i(0)(1-T_i)$$\n",
    "- Weak ignorability holds only for the control outcome, ie: $Y_i(0)  \\perp T_i $, and it is not true that: $Y_i(1) \\perp T_i$\n",
    " \n",
    "Show that ocnsistency of all treatment levels, and weak ignorability of the control condition(the assumptions just made) are enough to identify the ATT, i.e., show that $\\tau^t = E[Y_i|Ti=1] - E[Y_i|T_i=0]$"
   ]
  },
  {
   "cell_type": "markdown",
   "metadata": {},
   "source": [
    "$\\tau^t = E[Y_i(1)-Y_i(0)|T_i = 1]= E[Y_i(1)|T_i =1] - E[Y_i(0)|T_i =1] = E[Y_i(1)|T_i =1] - E[Y_i(0)|T_i =0] = E[Y_i|Ti=1] - E[Y_i|T_i=0]$"
   ]
  },
  {
   "cell_type": "markdown",
   "metadata": {},
   "source": [
    "## Question3: \n",
    "Write and simplify the difference between ATE and the ATT under the same assumption as the previous question. What additional ssumption is necessary for this difference to be 0, and for the ATT to be equal to the ATE? Why is this assumption enough? \n",
    "\n",
    "indication: You may start from the definition $\\tau - \\tau^t = E[Y_i(1) - Y_i(0)] - E[Y_i(1) - Y_i(0)|T_i =1]$"
   ]
  },
  {
   "cell_type": "markdown",
   "metadata": {},
   "source": [
    "$\\tau - \\tau^t = E[Y_i(1) - Y_i(0)] - E[Y_i(1) - Y_i(0)|T_i =1] = E[Y_i(1)] - E[Y_i(1)|T_i = 1] - E[Y_i(0)] + E[Y_i(0)|T_i = 1]$ \n",
    "\n",
    "Since $Y_i(0)$ satisfies the ignorability, we have $$E[Y_i(0)]= E[Y_i(0)|T_i=0]=E[Y_i(0)|T_i=1]$$\n",
    "\n",
    "so $$\\tau - \\tau^t = E[Y_i(1)] - E[Y_i(1)|T_i = 1] $$"
   ]
  },
  {
   "cell_type": "markdown",
   "metadata": {},
   "source": [
    "For ATT to be equal to the ATE, $E[Y_i(1)] = E[Y_i(1)|T_i = 1] $ , $Y_i(1)$ should satisfy the ignorability assumption. This combined with weak ignorability fulfill the SUTVA and ignorability assumptions."
   ]
  },
  {
   "cell_type": "markdown",
   "metadata": {},
   "source": [
    "# Exercise3: Bernoulli trial\n",
    "Under the same setting as Exercise2, we suppose that $T_i$ is assigned to the $n$ units in a Bernoulli trial, that is each unit receives treatment independently with probability $Pr(T_i =1)= p$\n",
    "## Question1: \n",
    "Recall that the number of treated unites, $N_t$ is defined as $N_t = \\sum_{i=1}^{n}T_i$ Recall that in the case of a Bernoulli trial, $N_t$ is a random variable. \n",
    "1. What distribution does $T_i$ follow?"
   ]
  },
  {
   "cell_type": "markdown",
   "metadata": {},
   "source": [
    "$T_i$ follows a binomial distribution with $n =1, p = p \\in (0,1)$\n",
    "$$Pr(x) = \\binom n x p^x q^{n-x} = p^x(1-p)^{1-x}$$"
   ]
  },
  {
   "cell_type": "markdown",
   "metadata": {},
   "source": [
    "2. What is $E[N_t]$"
   ]
  },
  {
   "cell_type": "markdown",
   "metadata": {},
   "source": [
    "$$E[N_t] = E[\\sum_{i=1}^{n} T_i] = \\sum_{i=1}^{n}E[T_i] = np$$"
   ]
  },
  {
   "cell_type": "markdown",
   "metadata": {},
   "source": [
    "3. What is $Var[N_t]$"
   ]
  },
  {
   "cell_type": "markdown",
   "metadata": {},
   "source": [
    "since $T_i$ are iid, \n",
    "$$Var[T_i] = E[T_i^2] - E[T_i]^2 = p \\cdot 1^2 + (1-p) \\cdot 0^2 - p^2 = p-p^2$$\n",
    "$$Var[N_t] = Var[\\sum_{i=1}^{n} T_i ]= \\sum_{i=1}^{n} Var[T_i] = n \\cdot(p-p^2) = np(1-p) $$"
   ]
  },
  {
   "cell_type": "markdown",
   "metadata": {},
   "source": [
    "4. Suppose that we wanted the expected number of treated units in our Bernoulli trail to be the same as the number of treated unites as a completely randomized experiment with $n_t$ treated unites. What value of $p$ should we choose?"
   ]
  },
  {
   "cell_type": "markdown",
   "metadata": {},
   "source": [
    "$$ E[N_t] = np = n_t$$ \n",
    "$$p = \\frac{n_t}{n}$$"
   ]
  },
  {
   "cell_type": "markdown",
   "metadata": {},
   "source": [
    "# Question2: \n",
    "After conducting the experiment as described above, we wish to estimate the ATE. To do so, we employ the following estimator: \n",
    "$$\\hat{\\tau}_{IPW} = \\frac{1}{n}\\sum_{i=1}^{n}(Y_i\\frac{T_i}{p}-Y_i\\frac{1-T_i}{1-p})$$\n",
    "\n",
    "Show that under consistency, positivity, and ignorability for all treatments this estimator is unbiased for the ATE"
   ]
  },
  {
   "cell_type": "markdown",
   "metadata": {},
   "source": [
    "$$\\frac{1}{p} = \\frac{n}{n_t}, \\frac{1}{1-p} = \\frac{n_c}{n}$$\n",
    "$$\\hat{\\tau}_{IPW} = \\frac{1}{n}\\sum_{i=1}^{n}(Y_i\\frac{T_i}{p}-Y_i\\frac{1-T_i}{1-p}) = \\frac{1}{n} (\\sum_{T_i=1}\\frac{1}{p}Y_i|T_i=1 - \\sum_{T_i=0}\\frac{1}{1-p}Y_i|T_i=0)$$\n",
    "\n",
    "$$E[\\hat{\\tau}_{IPW}] = \\frac{1}{n}n_tE[\\frac{1}{p}Y_i(1)] - \\frac{1}{n} n_cE[\\frac{1}{1-p}Y_i(0)] = \\frac{n_t}{n} \\frac{n}{n_t}E[Y_i(1)] - \\frac{n_c}{n}\\frac{n}{n_c}E[Y_i(0)] = E[Y_i(1)-Y_i(0)] = \\tau$$ \n",
    "since $  E[Y_i|T_i=1] = E[Y_i(1)|T_i=1] = E[Y_i(1)],  E[Y_i|T_i=0] = E[Y_i(0)|T_i=0]= E[Y_i(0)]$ given ignorability\n",
    "\n",
    "Therefore this estimator is unbiased for the ATE.\n"
   ]
  },
  {
   "cell_type": "markdown",
   "metadata": {},
   "source": [
    "## Question3:\n",
    "Suppose now that we used the same estimator defined above in a completely randomized experiment, where exactly $n_t$ units are treated. Show that in this case, the estimator above is equal to the Neyman \"difference in means\" estimator we saw in class. "
   ]
  },
  {
   "cell_type": "markdown",
   "metadata": {},
   "source": [
    "$$p = \\frac{n_t}{n}, 1-p = \\frac{n-n_t}{n} = \\frac{n_c}{n}$$\n",
    "\n",
    "$$\\hat{\\tau}_{IPW} = \\frac{1}{n}\\sum_{i=1}^{n}(Y_i\\frac{T_i}{p}-Y_i\\frac{1-T_i}{1-p}) = \\frac{1}{n}\\sum_{i=1}^{n}(Y_i\\frac{T_i}{\\frac{n_t}{n}}-Y_i\\frac{1-T_i}{\\frac{n_c}{n}}) = \\frac{1}{n} \\sum_{i=1}^{n}(Y_i \\frac{T_in}{n_t} - Y_i\\frac{(1-T_i)n}{n-n_t}) = \\frac{1}{n_t} \\sum_{i=1}^{n}Y_iT_i-\\frac{1}{n_c}\\sum_{i=1}^{n}(1-T_i)Y_i = \\hat{\\tau}$$"
   ]
  },
  {
   "cell_type": "markdown",
   "metadata": {},
   "source": [
    "# Exercise4: Social Pressure and Voter Turnout\n",
    "Gerber, Green and Larimer randomly assigned households to receive a mailing encouraging them to turn out to vote before the Michigan 2006 primary election. We will be using the individual data obtained from the experiment. Each row in the dataset represent an individual record, where p2000 represenys whether the individual had voted in August 2000, g2000 represents whether the individual had voted in November 2000(same for p2002, g2002, p2004). Each individual belongs to a household specified by hh_id\n"
   ]
  },
  {
   "cell_type": "markdown",
   "metadata": {},
   "source": [
    "## Question1 Data preparation\n",
    "In order to analyze the GOTV data we will need to reproduce the household-level dataset of the original paper. \n",
    "1. Recode the variable sex by changing the character to float (i.e. 'female' to 1 and 'male' to zero)\n"
   ]
  },
  {
   "cell_type": "code",
   "execution_count": 22,
   "metadata": {},
   "outputs": [],
   "source": [
    "import pandas as pd\n",
    "import warnings\n",
    "warnings.filterwarnings(\"ignore\")"
   ]
  },
  {
   "cell_type": "code",
   "execution_count": 23,
   "metadata": {},
   "outputs": [],
   "source": [
    "file_path = \"./gotv_individual.csv\"\n",
    "gotv = pd.read_csv(file_path)  \n",
    "gotv['sex'] = [1 if i=='female' else 0 for i in gotv['sex']]"
   ]
  },
  {
   "cell_type": "markdown",
   "metadata": {},
   "source": [
    "2. Recode the variable yob(year of birth) into a new variable called 'age' by subtracting yob from the year the experiment took place, 2006"
   ]
  },
  {
   "cell_type": "code",
   "execution_count": 24,
   "metadata": {},
   "outputs": [],
   "source": [
    "gotv['age'] =  2006 - gotv.yob"
   ]
  },
  {
   "cell_type": "markdown",
   "metadata": {},
   "source": [
    "3. Group the data into households, i.e., create a new dataframe where each row is a household with a unique hh_id, and each column is the mean value of each of the other individual-level variables in that household. "
   ]
  },
  {
   "cell_type": "code",
   "execution_count": 25,
   "metadata": {},
   "outputs": [],
   "source": [
    "household_gotv = gotv.groupby(['hh_id', 'treatment']).mean()\n",
    "household_gotv.reset_index(inplace= True)"
   ]
  },
  {
   "cell_type": "markdown",
   "metadata": {},
   "source": [
    "4. In the paper, the authors analyzed households rather than individual. Why did they do this?\n",
    "\n",
    "The authors analyzed households rather than individual because household is the smallest possible unit to receive the treatment(mailing). The outcome of each individual within the household is not independent from each other. The non-interference condition in SUTVA will be violated if analyzing individuals as the smallest unit."
   ]
  },
  {
   "cell_type": "markdown",
   "metadata": {},
   "source": [
    "## Question2: Validate Randomization\n",
    "\n",
    "Using the household data you obtained above, verify that the experimental assignment is randomized at the household level by computing and showing the sample means of each of the variables: p2000, g2000, p2002, g2002, p2004, hh_id, sex, and age in each of the treatment groups. Are these means similar across groups? And if so what does that imply for randomization and ignorability? Is it enough to prove that the treatment was indeed randomized if we do not know it from the experiment. "
   ]
  },
  {
   "cell_type": "code",
   "execution_count": 26,
   "metadata": {},
   "outputs": [
    {
     "data": {
      "text/html": [
       "<div>\n",
       "<style scoped>\n",
       "    .dataframe tbody tr th:only-of-type {\n",
       "        vertical-align: middle;\n",
       "    }\n",
       "\n",
       "    .dataframe tbody tr th {\n",
       "        vertical-align: top;\n",
       "    }\n",
       "\n",
       "    .dataframe thead th {\n",
       "        text-align: right;\n",
       "    }\n",
       "</style>\n",
       "<table border=\"1\" class=\"dataframe\">\n",
       "  <thead>\n",
       "    <tr style=\"text-align: right;\">\n",
       "      <th></th>\n",
       "      <th>hh_id</th>\n",
       "      <th>hh_size</th>\n",
       "      <th>sex</th>\n",
       "      <th>yob</th>\n",
       "      <th>g2000</th>\n",
       "      <th>g2002</th>\n",
       "      <th>g2004</th>\n",
       "      <th>p2000</th>\n",
       "      <th>p2002</th>\n",
       "      <th>p2004</th>\n",
       "      <th>p2004_mean</th>\n",
       "      <th>g2004_mean</th>\n",
       "      <th>voted</th>\n",
       "      <th>age</th>\n",
       "    </tr>\n",
       "    <tr>\n",
       "      <th>treatment</th>\n",
       "      <th></th>\n",
       "      <th></th>\n",
       "      <th></th>\n",
       "      <th></th>\n",
       "      <th></th>\n",
       "      <th></th>\n",
       "      <th></th>\n",
       "      <th></th>\n",
       "      <th></th>\n",
       "      <th></th>\n",
       "      <th></th>\n",
       "      <th></th>\n",
       "      <th></th>\n",
       "      <th></th>\n",
       "    </tr>\n",
       "  </thead>\n",
       "  <tbody>\n",
       "    <tr>\n",
       "      <th>Civic Duty</th>\n",
       "      <td>89998.082371</td>\n",
       "      <td>1.910804</td>\n",
       "      <td>0.502696</td>\n",
       "      <td>1954.821002</td>\n",
       "      <td>0.865388</td>\n",
       "      <td>0.836149</td>\n",
       "      <td>1.0</td>\n",
       "      <td>0.266413</td>\n",
       "      <td>0.409875</td>\n",
       "      <td>0.415508</td>\n",
       "      <td>0.305815</td>\n",
       "      <td>0.922653</td>\n",
       "      <td>0.324922</td>\n",
       "      <td>51.178998</td>\n",
       "    </tr>\n",
       "    <tr>\n",
       "      <th>Control</th>\n",
       "      <td>89999.585426</td>\n",
       "      <td>1.912449</td>\n",
       "      <td>0.502263</td>\n",
       "      <td>1954.686002</td>\n",
       "      <td>0.866309</td>\n",
       "      <td>0.834383</td>\n",
       "      <td>1.0</td>\n",
       "      <td>0.264894</td>\n",
       "      <td>0.408667</td>\n",
       "      <td>0.416634</td>\n",
       "      <td>0.306890</td>\n",
       "      <td>0.921344</td>\n",
       "      <td>0.304307</td>\n",
       "      <td>51.313998</td>\n",
       "    </tr>\n",
       "    <tr>\n",
       "      <th>Hawthorne</th>\n",
       "      <td>90002.678557</td>\n",
       "      <td>1.910009</td>\n",
       "      <td>0.503219</td>\n",
       "      <td>1954.795879</td>\n",
       "      <td>0.866766</td>\n",
       "      <td>0.835654</td>\n",
       "      <td>1.0</td>\n",
       "      <td>0.263210</td>\n",
       "      <td>0.411651</td>\n",
       "      <td>0.418783</td>\n",
       "      <td>0.307531</td>\n",
       "      <td>0.921673</td>\n",
       "      <td>0.331794</td>\n",
       "      <td>51.204121</td>\n",
       "    </tr>\n",
       "    <tr>\n",
       "      <th>Neighbors</th>\n",
       "      <td>90000.544100</td>\n",
       "      <td>1.910050</td>\n",
       "      <td>0.504600</td>\n",
       "      <td>1954.657666</td>\n",
       "      <td>0.865250</td>\n",
       "      <td>0.835149</td>\n",
       "      <td>1.0</td>\n",
       "      <td>0.263134</td>\n",
       "      <td>0.405962</td>\n",
       "      <td>0.422652</td>\n",
       "      <td>0.308162</td>\n",
       "      <td>0.921740</td>\n",
       "      <td>0.389095</td>\n",
       "      <td>51.342334</td>\n",
       "    </tr>\n",
       "    <tr>\n",
       "      <th>Self</th>\n",
       "      <td>90000.523300</td>\n",
       "      <td>1.910900</td>\n",
       "      <td>0.501356</td>\n",
       "      <td>1954.755790</td>\n",
       "      <td>0.862548</td>\n",
       "      <td>0.835222</td>\n",
       "      <td>1.0</td>\n",
       "      <td>0.262901</td>\n",
       "      <td>0.410353</td>\n",
       "      <td>0.420857</td>\n",
       "      <td>0.306368</td>\n",
       "      <td>0.921331</td>\n",
       "      <td>0.356867</td>\n",
       "      <td>51.244210</td>\n",
       "    </tr>\n",
       "  </tbody>\n",
       "</table>\n",
       "</div>"
      ],
      "text/plain": [
       "                    hh_id   hh_size       sex          yob     g2000  \\\n",
       "treatment                                                              \n",
       " Civic Duty  89998.082371  1.910804  0.502696  1954.821002  0.865388   \n",
       " Control     89999.585426  1.912449  0.502263  1954.686002  0.866309   \n",
       " Hawthorne   90002.678557  1.910009  0.503219  1954.795879  0.866766   \n",
       " Neighbors   90000.544100  1.910050  0.504600  1954.657666  0.865250   \n",
       " Self        90000.523300  1.910900  0.501356  1954.755790  0.862548   \n",
       "\n",
       "                g2002  g2004     p2000     p2002     p2004  p2004_mean  \\\n",
       "treatment                                                                \n",
       " Civic Duty  0.836149    1.0  0.266413  0.409875  0.415508    0.305815   \n",
       " Control     0.834383    1.0  0.264894  0.408667  0.416634    0.306890   \n",
       " Hawthorne   0.835654    1.0  0.263210  0.411651  0.418783    0.307531   \n",
       " Neighbors   0.835149    1.0  0.263134  0.405962  0.422652    0.308162   \n",
       " Self        0.835222    1.0  0.262901  0.410353  0.420857    0.306368   \n",
       "\n",
       "             g2004_mean     voted        age  \n",
       "treatment                                     \n",
       " Civic Duty    0.922653  0.324922  51.178998  \n",
       " Control       0.921344  0.304307  51.313998  \n",
       " Hawthorne     0.921673  0.331794  51.204121  \n",
       " Neighbors     0.921740  0.389095  51.342334  \n",
       " Self          0.921331  0.356867  51.244210  "
      ]
     },
     "execution_count": 26,
     "metadata": {},
     "output_type": "execute_result"
    }
   ],
   "source": [
    "household_gotv_by_T = household_gotv.groupby('treatment').mean()\n",
    "household_gotv_by_T"
   ]
  },
  {
   "cell_type": "markdown",
   "metadata": {},
   "source": [
    "These means are similar across treatment groups. This means that five treatments are randomized across households at least for the variates shown in the dataset. Each household has equal probability in receiving one of the five treatments. $E(Y_i|T_i)$ for $i \\in \\{1,2,3,4,5\\}$ are comparable. The randomization satisfies the ignorability condition and ensures that potential outcomes are independent of treatment assignment, so that the average difference in outcomes between any group with the control group can only be attributable to treatment. However, it is not enough to prove that the treatment was completely randomized since there might be other unobserved covariates which may have disparate expected values across different treatment groups. We still need metadata and more information on experiment design to be more confident about the extent of randomization."
   ]
  },
  {
   "cell_type": "markdown",
   "metadata": {},
   "source": [
    "## Question3: Average Treatment Effect\n",
    "Use the household dataset you obtained above, use the Neyman Estimator, denoted here as $\\hat{\\tau}$, to compute the average treatment effect for each treatment group comparing to the control group. Name and briefly explain two assumptions in this experiment that allow us to compute the ATE."
   ]
  },
  {
   "cell_type": "code",
   "execution_count": 27,
   "metadata": {},
   "outputs": [],
   "source": [
    "civic_duty_mean, control_mean, hawthorne_mean, neighbor_mean, self_mean = household_gotv_by_T.voted.values"
   ]
  },
  {
   "cell_type": "code",
   "execution_count": 28,
   "metadata": {},
   "outputs": [
    {
     "name": "stdout",
     "output_type": "stream",
     "text": [
      "Neyman estimator for civic duty: 0.020615044158540985\n",
      "Neyman estimator for hawthorne: 0.027487277497512563\n",
      "Neyman estimator for neighbor: 0.08478807597718846\n",
      "Neyman estimator for self: 0.052559980739093626\n"
     ]
    }
   ],
   "source": [
    "tau_civic_duty = civic_duty_mean - control_mean\n",
    "tau_hawthorne = hawthorne_mean - control_mean\n",
    "tau_neighbor = neighbor_mean - control_mean\n",
    "tau_self = self_mean - control_mean\n",
    "\n",
    "print(f'Neyman estimator for civic duty: {tau_civic_duty}')\n",
    "print(f'Neyman estimator for hawthorne: {tau_hawthorne}')\n",
    "print(f'Neyman estimator for neighbor: {tau_neighbor}')\n",
    "print(f'Neyman estimator for self: {tau_self}')"
   ]
  },
  {
   "cell_type": "markdown",
   "metadata": {},
   "source": [
    "- SUTVA assumption: 1. no interference. The voting decision of each household is independent of the decision of its neighbors. 2. consistency: The same treatment has the same degree of effect on all households receiving that treatment. \n",
    "- Ignorability assumption: The treatment is sufficiently randomized across different treatment groups. Potential outcomes are independent of treatment assignment"
   ]
  },
  {
   "cell_type": "markdown",
   "metadata": {},
   "source": [
    "## Question4: Variance and hypothesis testing\n",
    "Assuming that the experiment is a completely randomized experiment, give an estimate of the ATE variance of the treatment effect of the Neighbors treatment compared to the control group, using the Neyman variance estimator, denoted as $\\hat{Var[\\hat{\\tau}]}$. In addition, conduct a two-sided hypothesis test against the null that the ATE is 0 i.e. : $H_0: \\tau = 0$, with the alternative is $H_1: \\tau \\neq 0$, using the Z-statistic as your test statistic, i.e.:\n",
    "$$Z_n = \\frac{(\\hat{\\tau}-\\tau)}{\\sqrt{\\hat{Var}[\\hat{\\tau}]}}$$\n",
    "Report both the value of $Z_n$ and the p-value for the test"
   ]
  },
  {
   "cell_type": "markdown",
   "metadata": {},
   "source": [
    "$$\\hat{Var}(\\hat{\\tau}) = \\frac{\\hat{S_{tn}}^2}{n_{tn}} +  \\frac{\\hat{S_{tc}}^2}{n_{tc}}$$\n",
    "\n",
    "$$\\hat{S}_{tk}^2 = \\frac{1}{n_{tk}-1}\\sum_{i: T_i = k}(Y_i - \\bar{Y_{tk}})^2$$"
   ]
  },
  {
   "cell_type": "code",
   "execution_count": 9,
   "metadata": {},
   "outputs": [],
   "source": [
    "import numpy as np\n",
    "from scipy.stats import norm"
   ]
  },
  {
   "cell_type": "code",
   "execution_count": 29,
   "metadata": {},
   "outputs": [
    {
     "data": {
      "text/plain": [
       "1.1568354434982567e-05"
      ]
     },
     "execution_count": 29,
     "metadata": {},
     "output_type": "execute_result"
    }
   ],
   "source": [
    "gotv_original = household_gotv.copy()\n",
    "household_gotv = household_gotv[['treatment','voted']]\n",
    "\n",
    "t_neighbor = household_gotv[household_gotv['treatment'] == ' Neighbors']\n",
    "t_control = household_gotv[household_gotv['treatment'] == ' Control']\n",
    "\n",
    "s_neighbor_square, n_n = np.var(t_neighbor.voted, ddof = 1), len(t_neighbor)\n",
    "s_control_square, n_c = np.var(t_control.voted, ddof = 1), len(t_control)\n",
    "\n",
    "neyman_var = (s_neighbor_square/n_n) + (s_control_square/n_c)\n",
    "neyman_var\n"
   ]
  },
  {
   "cell_type": "code",
   "execution_count": 30,
   "metadata": {},
   "outputs": [
    {
     "name": "stdout",
     "output_type": "stream",
     "text": [
      "Zn:24.92866303482384, p_value:0.0\n"
     ]
    }
   ],
   "source": [
    "\n",
    "def calculate_Zn(tau_hat,neyman_var ):\n",
    "    tau = 0\n",
    "    return (tau_hat - tau) / np.sqrt(neyman_var)\n",
    "\n",
    "zn = calculate_Zn(tau_neighbor, neyman_var)\n",
    "p_value = 2*(1- norm.cdf(abs(zn)) )\n",
    "print(f'Zn:{zn}, p_value:{p_value}')\n",
    "\n"
   ]
  },
  {
   "cell_type": "markdown",
   "metadata": {},
   "source": [
    "## Question5 Randomization Inference\n",
    "Conduct a randomization inference hypothsis test on the experiment data for the sharp null hypothesis that $Y_i$(neighbors) = $Y_i$(control) for all i. Using $Z_n$ as defined befored as your test statistic, follow the steps below:\n",
    "1. Simulate the value of $Z_n$ under the sharp null for at least $N = 1000$ iterations\n"
   ]
  },
  {
   "cell_type": "code",
   "execution_count": 32,
   "metadata": {},
   "outputs": [],
   "source": [
    "import matplotlib.pyplot as plt\n",
    "import seaborn as sns\n",
    "from tqdm import tqdm"
   ]
  },
  {
   "cell_type": "code",
   "execution_count": 34,
   "metadata": {},
   "outputs": [
    {
     "name": "stderr",
     "output_type": "stream",
     "text": [
      "100%|██████████| 1000/1000 [01:06<00:00, 14.94it/s]\n"
     ]
    }
   ],
   "source": [
    "\n",
    "Niter= 1000\n",
    "rg = np.random.default_rng(42)\n",
    "null_diff = np.zeros(Niter)\n",
    "fisher_z_dist = []\n",
    "gotv_original = gotv_original[ (gotv_original['treatment'] == ' Neighbors') | (gotv_original['treatment'] == ' Control')]\n",
    "n = len(gotv_original)\n",
    "for i in tqdm(range(Niter)):\n",
    "  gotv_original = gotv_original.assign(T_permute=rg.permutation(gotv_original['treatment']))\n",
    "  t_neighbor = gotv_original[gotv_original['T_permute']==' Neighbors']\n",
    "  t_control = gotv_original[gotv_original['T_permute']==' Control']\n",
    "  std = np.sqrt(np.var(t_neighbor.voted, ddof = 1)/len(t_neighbor) + np.var(t_control.voted, ddof = 1)/len(t_control))\n",
    "  z =  (t_neighbor.voted.mean() - t_control.voted.mean())/std\n",
    "  fisher_z_dist.append(z)\n",
    "  \n",
    "\n"
   ]
  },
  {
   "cell_type": "markdown",
   "metadata": {},
   "source": [
    "2. Plot the values you obtained as a histogram"
   ]
  },
  {
   "cell_type": "code",
   "execution_count": 35,
   "metadata": {},
   "outputs": [
    {
     "data": {
      "text/plain": [
       "Text(0, 0.5, 'density')"
      ]
     },
     "execution_count": 35,
     "metadata": {},
     "output_type": "execute_result"
    },
    {
     "data": {
      "image/png": "[encoded data removed]",
      "text/plain": [
       "<Figure size 720x432 with 1 Axes>"
      ]
     },
     "metadata": {
      "needs_background": "light"
     },
     "output_type": "display_data"
    }
   ],
   "source": [
    "fig, ax = plt.subplots(figsize=(10,6))\n",
    "sns.distplot(fisher_z_dist , kde=True, bins='auto', ax=ax)\n",
    "ax.set_xlabel('statistic value')\n",
    "ax.set_ylabel('density')\n",
    "\n"
   ]
  },
  {
   "cell_type": "markdown",
   "metadata": {},
   "source": [
    "3. Add a marker for the observed value of $Z_n$"
   ]
  },
  {
   "cell_type": "code",
   "execution_count": 37,
   "metadata": {},
   "outputs": [
    {
     "data": {
      "text/plain": [
       "Text(0, 0.5, 'density')"
      ]
     },
     "execution_count": 37,
     "metadata": {},
     "output_type": "execute_result"
    },
    {
     "data": {
      "image/png": "[encoded data removed]",
      "text/plain": [
       "<Figure size 720x432 with 1 Axes>"
      ]
     },
     "metadata": {
      "needs_background": "light"
     },
     "output_type": "display_data"
    }
   ],
   "source": [
    "t_neighbor = gotv_original[gotv_original['treatment']==' Neighbors']\n",
    "t_control = gotv_original[gotv_original['treatment']==' Control']\n",
    "std = np.sqrt((np.var(t_neighbor.voted, ddof =1 ) /len(t_neighbor)) + (np.var(t_control.voted, ddof =1 ) /len(t_control)))\n",
    "fisher_observed = (t_neighbor.voted.mean()-t_control.voted.mean())/std\n",
    "fig, ax = plt.subplots(figsize=(10,6))\n",
    "sns.distplot(fisher_z_dist, kde=True, bins='auto', ax=ax)\n",
    "plt.axvline(x= fisher_observed, color='red')\n",
    "ax.set_xlabel('statistic value')\n",
    "ax.set_ylabel('density')"
   ]
  },
  {
   "cell_type": "markdown",
   "metadata": {},
   "source": [
    "4. Report the two-sided p-value for the test"
   ]
  },
  {
   "cell_type": "code",
   "execution_count": 38,
   "metadata": {},
   "outputs": [
    {
     "data": {
      "text/plain": [
       "0.0"
      ]
     },
     "execution_count": 38,
     "metadata": {},
     "output_type": "execute_result"
    }
   ],
   "source": [
    "np.mean(np.abs(fisher_z_dist)>abs(fisher_observed))"
   ]
  },
  {
   "cell_type": "markdown",
   "metadata": {},
   "source": [
    "## Question 5.1 Compare hypothesis tests\n",
    "Briefly comment on the difference between the p-value you obtained using those two different strategies. Which is smaller? And what could this difference be due to?"
   ]
  },
  {
   "cell_type": "code",
   "execution_count": 39,
   "metadata": {},
   "outputs": [
    {
     "data": {
      "text/plain": [
       "24.622131117916346"
      ]
     },
     "execution_count": 39,
     "metadata": {},
     "output_type": "execute_result"
    }
   ],
   "source": [
    "z_fisher = fisher_observed/np.std(fisher_z_dist)\n",
    "z_fisher"
   ]
  },
  {
   "cell_type": "markdown",
   "metadata": {},
   "source": [
    "The z_score is 24.92 for normal hypothesis test and 24.62 for the fisher test. The p-value of sharp null hypothesis testing is negligibly greater than the p-value of the normal two-sided hypothesis testing. In fisher's exact test, the significance of the deviation from a null hypothesis (P-value) can be calculated exactly, rather than relying on an approximation that becomes exact in the limit as the sample size grows to infinity. The normal hypothesis test uses an approximation of the null distribution which slightly overestimate the standard deviation of Z distribution when sample sizes are large, thus underestimating the probability of z-score more extreme than the observed z-score. But since they are both infinitely close to 0, the difference between them is negligible."
   ]
  }
 ],
 "metadata": {
  "interpreter": {
   "hash": "a64033cd0127a17ac0664221886de74866c806bf8ed006cc214a58e367ec7301"
  },
  "kernelspec": {
   "display_name": "Python 3.8.5 ('base')",
   "language": "python",
   "name": "python3"
  },
  "language_info": {
   "codemirror_mode": {
    "name": "ipython",
    "version": 3
   },
   "file_extension": ".py",
   "mimetype": "text/x-python",
   "name": "python",
   "nbconvert_exporter": "python",
   "pygments_lexer": "ipython3",
   "version": "3.8.5"
  },
  "orig_nbformat": 4
 },
 "nbformat": 4,
 "nbformat_minor": 2
}
