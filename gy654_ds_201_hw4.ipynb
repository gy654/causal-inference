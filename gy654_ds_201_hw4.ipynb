{
  "cells": [
    {
      "cell_type": "markdown",
      "metadata": {
        "id": "Ai6URCDY8p2U"
      },
      "source": [
        "<h2><center>DS-201</center></h2>\n",
        "<h2><center>Homework4 </center></h2>\n",
        "<h2><center>Grace Yang</center></h2>\n",
        "<h2><center>gy654, N10610063</center></h2>"
      ]
    },
    {
      "cell_type": "markdown",
      "metadata": {
        "id": "yG0AWe_A80o_"
      },
      "source": [
        "# Exercise1 About difference in difference\n",
        "\n",
        "Suppose you have a time-series dataset with repeated observations of the same $n$ units over two time periods. No unit is treated at $t = 0$, and some units are treated at $t = 1$, each unit's treatment status at $t=1$ us indicated by the random variable $T_i$. Suppose that exactly $n_t$ units are treated, and $n_c$units are in the control group, so that $P(T_i = 1) = \\frac{n_t}{n}$. You know that observed ooutcomes take the following form:\n",
        "\n",
        "$$Y_{i0} = \\delta_0 + u_i + \\epsilon_{i0}$$\n",
        "$$Y_{i1} = \\tau_iT_i + \\delta_1 + u_i + \\epsilon_{i1}$$\n",
        "where $\\delta_{\\xi}, u_i$, and $\\tau_i$ are constants, and $T_i$ and $\\epsilon_{i \\xi}$ are random variables that satisfy $E[\\epsilon_{i1}|T_i = t] = E[\\epsilon_{i0}|T_i = t] = \\eta_i(t)$ for some constants $\\eta_{i}(t)$ for both $t = 1$ and $t = 0$, and that $\\eta_{i}(1) \\neq \\eta_{i}(0)$ Note that $t$ represents the treatment, and $\\xi$ the time, as in the lecture.\n"
      ]
    },
    {
      "cell_type": "markdown",
      "metadata": {
        "id": "qx8t3YI4_dTv"
      },
      "source": [
        "## Question1\n",
        "\n",
        "In this setting, the time-dependent potential outcome under control is defined as \n",
        "$$Y_{i\\xi}(0) = \\delta_{\\xi} + u_i + \\epsilon_{i\\xi}$$\n",
        "for $\\xi = 0, 1$. Show that the parallel trends assumption is satisfied in this setting by showing that $E[Y_{i1}(0) - Y_{i0}(0)|T_i = 1] = E[Y_{i1}(0) - Y_{i0}(0)|T_i = 0]$"
      ]
    },
    {
      "cell_type": "markdown",
      "metadata": {
        "id": "wqASQu0CBuvb"
      },
      "source": [
        "$$LHS = E[Y_{i1}(0) - Y_{i0}(0)|T_i = 1]$$\n",
        "$$ = E[\\delta_i + u_i + \\epsilon_{i1} - \\delta_0 - u_i - \\epsilon_{i0}|T_i = 1] \\quad \\text{(definition given in the problem)}$$\n",
        "$$ = \\delta_1 - \\delta_0 + E[\\epsilon_{i1}|T_i = 1] - E[\\epsilon_{i0}|T_i = 1] \\quad \\text{(linearity of expectations)}$$\n",
        "$$ = \\delta_1 - \\delta_0 + \\eta_i(1) - \\eta_i(1) \\quad \\text{(definition given in the problem)}$$\n",
        "$$ = \\delta_1 - \\delta_0$$\n",
        "Similarly:\n",
        "$$RHS = E[Y_{i1}(0) - Y_{i0}(0)|T_i = 0]$$\n",
        "$$ = E[\\delta_i + u_i + \\epsilon_{i1} - \\delta_0 - u_i - \\epsilon_{i0}|T_i = 0] \\quad \\text{(definition given in the problem)}$$\n",
        "$$ = \\delta_1 - \\delta_0 + E[\\epsilon_{i1}|T_i = 0] - E[\\epsilon_{i0}|T_i = 0] \\quad \\text{(linearity of expectations)}$$\n",
        "$$ = \\delta_1 - \\delta_0 + \\eta_i(0) - \\eta_i(0) \\quad \\text{(given in the problem)}$$\n",
        "$$ = \\delta_1 - \\delta_0$$\n",
        "Therefore $LHS = RHS$, the parallel assumption is satisfied."
      ]
    },
    {
      "cell_type": "markdown",
      "metadata": {
        "id": "GH3yAfihDRyH"
      },
      "source": [
        "## Question2:\n",
        "Show that the estimator \n",
        "$$\\hat{\\tau} = \\frac{1}{n_t} \\sum_{i = 1}^n(Y_{i1}- Y_{i0}) T_i - \\frac{1}{n_c} \\sum_{i=1}^n(Y_{i1} - Y_{i0})(1-T_i)$$ is unbiased for the ATE, i.e., show that $E[\\hat{\\tau}] = \\frac{1}{n} \\sum_{i=1}^n\\tau_i$"
      ]
    },
    {
      "cell_type": "markdown",
      "metadata": {
        "id": "7fJ6LfJDe4RD"
      },
      "source": [
        "$$E[\\hat{\\tau}] = E[\\frac{1}{n_t}\\sum_{i=1}{n}(Y_{i1} - Y_{i0})T_i - \\frac{1}{n_c}\\sum_{i=1}^{n}(Y_{i1}- Y_{i0})(1-T_i)] $$\n",
        "$$ = \\frac{1}{n_t} \\sum_{i=1}^{n}E[(Y_{i1} - Y_{i0})T_i] - \\frac{1}{n_c}\\sum_{i=1}^{n}E[(Y_{i1}-Y_{i0})(1-T_i)] \\quad \\text{(linearity of expectation)}$$\n",
        "$$ = \\frac{1}{n}\\sum_{i=1}^{n}E[(Y_{i1} - Y_{i0})|T_i = 1] - \\frac{1}{n}\\sum_{i=1}^{n}E[(Y_{i1} - Y_{i0})|T_i = 0] \\quad \\text{(an alternative way to express the difference in mean estimator)}$$\n",
        "$$ = \\frac{1}{n}\\sum_{i=1}^{n}(E[Y_{i1}|T_i = 1] - E[Y_{i0}|T_i = 1]) - E[Y_{i1}|T_i = 0] + E[Y_{i0}|T_i = 0])\\quad \\text{(linearity of expectation)}$$\n",
        "$$ = \\frac{1}{n}\\sum_{i=1}^{n}(E[Y_{i1}|T_i = 1] - E[Y_{i1}|T_i = 0] + E[Y_{i0}|T_i = 0])- E[Y_{i0}|T_i = 1]) \\quad \\text{(rearrange terms)}$$\n",
        "$$ = \\frac{1}{n} \\sum_{i=1}^{n}(E[\\tau_i + \\delta_1 + u_i + \\epsilon_{i1}- \\delta_1 - u_i - \\epsilon_{i1}] - E[\\delta_0 + u_i + \\epsilon_{i0} - \\delta_0 - u_i - \\epsilon_{i0}]) \\quad \\text{(defined in the problem, plug in $T_i$ into formulas of $Y_{i0}$ and $Y_{i1}$)}$$\n",
        "$$ = \\frac{1}{n} \\sum_{i=1}^{n} \\tau_i + 0$$\n",
        "$$ = \\frac{1}{n} \\sum_{i=1}^{n} \\tau_i $$"
      ]
    },
    {
      "cell_type": "markdown",
      "metadata": {
        "id": "7TbhnynXi092"
      },
      "source": [
        "## Question3\n",
        "\n",
        "Suppose that we ignore the first time period, and we instead use the Neyman estimator with only the data for $\\xi = 1$ for the ATE, that is, we use:\n",
        "$$\\hat{\\tau}_{\\xi = 1} = \\frac{1}{n_t} \\sum_{i=1}^{n} Y_{i1}T_i - \\frac{1}{n_c}\\sum_{i=1}^{n} Y_{i1}(1-T_i)$$\n",
        "derive a formula for the bias of $\\hat{\\tau}_{\\xi = 1}$ in terms of tthe constants $\\eta_i(t)$; that is , derive a formula for the quantity: $E[\\hat{\\tau}_{\\xi = 1}] - \\frac{1}{n} \\sum_{i=1}^{n}\\tau_i$"
      ]
    },
    {
      "cell_type": "markdown",
      "metadata": {
        "id": "z1beXAysl_0z"
      },
      "source": [
        "$$\\text{bias} = E[\\frac{1}{n_t}\\sum_{i=1}^{n}Y_{i1}T_i - \\frac{1}{n_c}\\sum_{i=1}^{n}Y_{i1}(1-T_i)] - \\frac{1}{n}\\sum_{i=1}^{n}\\tau_i$$\n",
        "$$ = E[\\frac{1}{n_t}\\sum_{i=1}^{n}Y_{i1}T_i - \\frac{1}{n_c}\\sum_{i=1}^{n}Y_{i1}(1-T_i) - \\frac{1}{n_t} \\sum_{i = 1}^n(Y_{i1}- Y_{i0}) T_i + \\frac{1}{n_c} \\sum_{i=1}^n(Y_{i1} - Y_{i0})(1-T_i)]$$ (since $\\frac{1}{n}\\sum_{i=1}^{n}\\tau_i  = \\frac{1}{n_t} \\sum_{i = 1}^n(Y_{i1}- Y_{i0}) T_i - \\frac{1}{n_c} \\sum_{i=1}^n(Y_{i1} - Y_{i0})(1-T_i)]$)\n",
        "$$ = E[\\frac{1}{n_t}\\sum_{i=1}^{n}Y_{i0}T_i - \\frac{1}{n_c}\\sum_{i=1}^{n}(1-T_i)Y_{i0}] \\quad \\text{(term cancellation)}$$  \n",
        "$$ = E[\\frac{1}{n}\\sum_{i=1}^{n}Y_{i0}|T_i = 1] - E[\\frac{1}{n}\\sum_{i=1}^{n}Y_{i0}|T_i = 0] $$\n",
        "$$ = \\frac{1}{n}\\sum_{i=1}^{n}(E[Y_{i0}|T_i = 1] - E[Y_{i0}|T_i = 0]) \\quad \\text{(linearlity of expectation)}$$\n",
        "$$ = \\frac{1}{n}\\sum_{i=1}^{n}(\\delta_0 + u_i + E[\\epsilon_{i0}|T_i = 1] - \\delta_0 - u_i + E[\\epsilon |T_i = 0]) \\quad \\text{(plug in formula given)}$$\n",
        "$$ = \\frac{1}{n}\\sum_{i=1}^{n}(\\eta_{i}(1) - \\eta_{i}(0)) \\quad \\text{(definition given in the problem)}$$"
      ]
    },
    {
      "cell_type": "markdown",
      "metadata": {
        "id": "uIcMP3I7n6ZC"
      },
      "source": [
        "## Exercise2 Instrumental variables\n",
        "\n",
        "Despite heated political and media rhetoric, there are few causal estimates of the effect of expanded healthcare insurance on healthcare outcomes. One landmark study, the [Oregon Health Insurance Experiment], covered new ground by utilizing a randomized control trial implemented by the state government of Oregoon. To allocate a limited number of eligible coverage slots for the states Medicaid expansion, about 30, 000 low-income, uninsured adults (out of abount 90, 000 wait_list applicants) were randomly selected by lottery to be alloweed to apply for Medicaid coverage. Researchers collected observable measures of health (blood pressure, cholesterol, and blood sugar levels), as well as hospital visitation and heealthcare expenses for 6387 selected adults and 5842 not selected adults. \n",
        "\n",
        "For this problem, you will need the **OHIE.dta** file. The variables you will need are:\n",
        "- **treatment** - Selected in the lottery\n",
        "- **ohp_all_ever_admin** - Ever enrolled in Medicaid from matched notification date to September 30, 2009 (actually took the treatment)\n",
        "- **tab2bp_hyper** - Outcome: Binary indicator for elevated blood pressure (defined a systolic pressure of 140mm Hg or more and a diastolic pressure of 90mm Hg or more)\n",
        "- **tab2phqtot_high** - Outcome: Binary indicator for a positive screening result for depression (defined as a score of 10 or higher on the Patient Health Question- naire - 8)\n",
        "- **tab4_catastrophic_exp_inp** - Outcome: Indicator for catastrophic medical expen- diture (total out-of- pocket medical expenses ≥ 30% of household income)\n",
        "- **tab5_needmet_med_inp** - Outcome: Participant feels that they received all needed medical care in past 12 months (binary indicator)\n",
        "\n"
      ]
    },
    {
      "cell_type": "code",
      "execution_count": 1,
      "metadata": {
        "colab": {
          "base_uri": "https://localhost:8080/"
        },
        "id": "yQ805l6_8zka",
        "outputId": "5144254e-eae8-4158-cf8e-e7fb49294717"
      },
      "outputs": [
        {
          "name": "stdout",
          "output_type": "stream",
          "text": [
            "Drive already mounted at /content/drive; to attempt to forcibly remount, call drive.mount(\"/content/drive\", force_remount=True).\n"
          ]
        }
      ],
      "source": [
        "from google.colab import drive\n",
        "drive.mount('/content/drive')\n",
        "file_path = './drive/MyDrive/Colab Notebooks/causal inference/OHIE.dta'\n",
        "import pandas as pd\n",
        "import warnings\n",
        "warnings.filterwarnings(\"ignore\")"
      ]
    },
    {
      "cell_type": "markdown",
      "metadata": {
        "id": "cvQbPnprrCfN"
      },
      "source": [
        "## Question1 Data preparation\n",
        "\n",
        "There are a few preliminary steps to ensure the dataset is ready to use.\n",
        "1. Restrict the dataset to the needed variables\n",
        "2. Convert all the variables too numerical values if needed\n",
        "3. Remove the observations with missing values\n",
        "4. Can this last step induce bias? Which type of bias? Briefly explain. For the rest of the problem, we will neglect this issue. "
      ]
    },
    {
      "cell_type": "code",
      "execution_count": 2,
      "metadata": {
        "colab": {
          "base_uri": "https://localhost:8080/",
          "height": 424
        },
        "id": "B2EESZnXqNDD",
        "outputId": "46ca8812-6078-4afd-b971-e95ea9a563fe"
      },
      "outputs": [
        {
          "data": {
            "text/html": [
              "\n",
              "  <div id=\"df-b6005fec-fe0e-4674-b815-7ffd3203c240\">\n",
              "    <div class=\"colab-df-container\">\n",
              "      <div>\n",
              "<style scoped>\n",
              "    .dataframe tbody tr th:only-of-type {\n",
              "        vertical-align: middle;\n",
              "    }\n",
              "\n",
              "    .dataframe tbody tr th {\n",
              "        vertical-align: top;\n",
              "    }\n",
              "\n",
              "    .dataframe thead th {\n",
              "        text-align: right;\n",
              "    }\n",
              "</style>\n",
              "<table border=\"1\" class=\"dataframe\">\n",
              "  <thead>\n",
              "    <tr style=\"text-align: right;\">\n",
              "      <th></th>\n",
              "      <th>treatment</th>\n",
              "      <th>ohp_all_ever_admin</th>\n",
              "      <th>tab2bp_hyper</th>\n",
              "      <th>tab2phqtot_high</th>\n",
              "      <th>tab4_catastrophic_exp_inp</th>\n",
              "      <th>tab5_needmet_med_inp</th>\n",
              "    </tr>\n",
              "  </thead>\n",
              "  <tbody>\n",
              "    <tr>\n",
              "      <th>0</th>\n",
              "      <td>1.0</td>\n",
              "      <td>0.0</td>\n",
              "      <td>1.0</td>\n",
              "      <td>0.0</td>\n",
              "      <td>0.0</td>\n",
              "      <td>1.0</td>\n",
              "    </tr>\n",
              "    <tr>\n",
              "      <th>1</th>\n",
              "      <td>0.0</td>\n",
              "      <td>0.0</td>\n",
              "      <td>0.0</td>\n",
              "      <td>0.0</td>\n",
              "      <td>0.0</td>\n",
              "      <td>0.0</td>\n",
              "    </tr>\n",
              "    <tr>\n",
              "      <th>3</th>\n",
              "      <td>0.0</td>\n",
              "      <td>1.0</td>\n",
              "      <td>1.0</td>\n",
              "      <td>0.0</td>\n",
              "      <td>0.0</td>\n",
              "      <td>1.0</td>\n",
              "    </tr>\n",
              "    <tr>\n",
              "      <th>4</th>\n",
              "      <td>0.0</td>\n",
              "      <td>0.0</td>\n",
              "      <td>1.0</td>\n",
              "      <td>1.0</td>\n",
              "      <td>0.0</td>\n",
              "      <td>0.0</td>\n",
              "    </tr>\n",
              "    <tr>\n",
              "      <th>5</th>\n",
              "      <td>0.0</td>\n",
              "      <td>0.0</td>\n",
              "      <td>0.0</td>\n",
              "      <td>0.0</td>\n",
              "      <td>0.0</td>\n",
              "      <td>1.0</td>\n",
              "    </tr>\n",
              "    <tr>\n",
              "      <th>...</th>\n",
              "      <td>...</td>\n",
              "      <td>...</td>\n",
              "      <td>...</td>\n",
              "      <td>...</td>\n",
              "      <td>...</td>\n",
              "      <td>...</td>\n",
              "    </tr>\n",
              "    <tr>\n",
              "      <th>20738</th>\n",
              "      <td>0.0</td>\n",
              "      <td>0.0</td>\n",
              "      <td>0.0</td>\n",
              "      <td>0.0</td>\n",
              "      <td>0.0</td>\n",
              "      <td>1.0</td>\n",
              "    </tr>\n",
              "    <tr>\n",
              "      <th>20740</th>\n",
              "      <td>1.0</td>\n",
              "      <td>0.0</td>\n",
              "      <td>0.0</td>\n",
              "      <td>0.0</td>\n",
              "      <td>0.0</td>\n",
              "      <td>1.0</td>\n",
              "    </tr>\n",
              "    <tr>\n",
              "      <th>20741</th>\n",
              "      <td>0.0</td>\n",
              "      <td>0.0</td>\n",
              "      <td>1.0</td>\n",
              "      <td>1.0</td>\n",
              "      <td>0.0</td>\n",
              "      <td>1.0</td>\n",
              "    </tr>\n",
              "    <tr>\n",
              "      <th>20742</th>\n",
              "      <td>1.0</td>\n",
              "      <td>1.0</td>\n",
              "      <td>0.0</td>\n",
              "      <td>0.0</td>\n",
              "      <td>0.0</td>\n",
              "      <td>0.0</td>\n",
              "    </tr>\n",
              "    <tr>\n",
              "      <th>20743</th>\n",
              "      <td>1.0</td>\n",
              "      <td>0.0</td>\n",
              "      <td>1.0</td>\n",
              "      <td>1.0</td>\n",
              "      <td>0.0</td>\n",
              "      <td>0.0</td>\n",
              "    </tr>\n",
              "  </tbody>\n",
              "</table>\n",
              "<p>11698 rows × 6 columns</p>\n",
              "</div>\n",
              "      <button class=\"colab-df-convert\" onclick=\"convertToInteractive('df-b6005fec-fe0e-4674-b815-7ffd3203c240')\"\n",
              "              title=\"Convert this dataframe to an interactive table.\"\n",
              "              style=\"display:none;\">\n",
              "        \n",
              "  <svg xmlns=\"http://www.w3.org/2000/svg\" height=\"24px\"viewBox=\"0 0 24 24\"\n",
              "       width=\"24px\">\n",
              "    <path d=\"M0 0h24v24H0V0z\" fill=\"none\"/>\n",
              "    <path d=\"M18.56 5.44l.94 2.06.94-2.06 2.06-.94-2.06-.94-.94-2.06-.94 2.06-2.06.94zm-11 1L8.5 8.5l.94-2.06 2.06-.94-2.06-.94L8.5 2.5l-.94 2.06-2.06.94zm10 10l.94 2.06.94-2.06 2.06-.94-2.06-.94-.94-2.06-.94 2.06-2.06.94z\"/><path d=\"M17.41 7.96l-1.37-1.37c-.4-.4-.92-.59-1.43-.59-.52 0-1.04.2-1.43.59L10.3 9.45l-7.72 7.72c-.78.78-.78 2.05 0 2.83L4 21.41c.39.39.9.59 1.41.59.51 0 1.02-.2 1.41-.59l7.78-7.78 2.81-2.81c.8-.78.8-2.07 0-2.86zM5.41 20L4 18.59l7.72-7.72 1.47 1.35L5.41 20z\"/>\n",
              "  </svg>\n",
              "      </button>\n",
              "      \n",
              "  <style>\n",
              "    .colab-df-container {\n",
              "      display:flex;\n",
              "      flex-wrap:wrap;\n",
              "      gap: 12px;\n",
              "    }\n",
              "\n",
              "    .colab-df-convert {\n",
              "      background-color: #E8F0FE;\n",
              "      border: none;\n",
              "      border-radius: 50%;\n",
              "      cursor: pointer;\n",
              "      display: none;\n",
              "      fill: #1967D2;\n",
              "      height: 32px;\n",
              "      padding: 0 0 0 0;\n",
              "      width: 32px;\n",
              "    }\n",
              "\n",
              "    .colab-df-convert:hover {\n",
              "      background-color: #E2EBFA;\n",
              "      box-shadow: 0px 1px 2px rgba(60, 64, 67, 0.3), 0px 1px 3px 1px rgba(60, 64, 67, 0.15);\n",
              "      fill: #174EA6;\n",
              "    }\n",
              "\n",
              "    [theme=dark] .colab-df-convert {\n",
              "      background-color: #3B4455;\n",
              "      fill: #D2E3FC;\n",
              "    }\n",
              "\n",
              "    [theme=dark] .colab-df-convert:hover {\n",
              "      background-color: #434B5C;\n",
              "      box-shadow: 0px 1px 3px 1px rgba(0, 0, 0, 0.15);\n",
              "      filter: drop-shadow(0px 1px 2px rgba(0, 0, 0, 0.3));\n",
              "      fill: #FFFFFF;\n",
              "    }\n",
              "  </style>\n",
              "\n",
              "      <script>\n",
              "        const buttonEl =\n",
              "          document.querySelector('#df-b6005fec-fe0e-4674-b815-7ffd3203c240 button.colab-df-convert');\n",
              "        buttonEl.style.display =\n",
              "          google.colab.kernel.accessAllowed ? 'block' : 'none';\n",
              "\n",
              "        async function convertToInteractive(key) {\n",
              "          const element = document.querySelector('#df-b6005fec-fe0e-4674-b815-7ffd3203c240');\n",
              "          const dataTable =\n",
              "            await google.colab.kernel.invokeFunction('convertToInteractive',\n",
              "                                                     [key], {});\n",
              "          if (!dataTable) return;\n",
              "\n",
              "          const docLinkHtml = 'Like what you see? Visit the ' +\n",
              "            '<a target=\"_blank\" href=https://colab.research.google.com/notebooks/data_table.ipynb>data table notebook</a>'\n",
              "            + ' to learn more about interactive tables.';\n",
              "          element.innerHTML = '';\n",
              "          dataTable['output_type'] = 'display_data';\n",
              "          await google.colab.output.renderOutput(dataTable, element);\n",
              "          const docLink = document.createElement('div');\n",
              "          docLink.innerHTML = docLinkHtml;\n",
              "          element.appendChild(docLink);\n",
              "        }\n",
              "      </script>\n",
              "    </div>\n",
              "  </div>\n",
              "  "
            ],
            "text/plain": [
              "       treatment  ohp_all_ever_admin  tab2bp_hyper  tab2phqtot_high  \\\n",
              "0            1.0                 0.0           1.0              0.0   \n",
              "1            0.0                 0.0           0.0              0.0   \n",
              "3            0.0                 1.0           1.0              0.0   \n",
              "4            0.0                 0.0           1.0              1.0   \n",
              "5            0.0                 0.0           0.0              0.0   \n",
              "...          ...                 ...           ...              ...   \n",
              "20738        0.0                 0.0           0.0              0.0   \n",
              "20740        1.0                 0.0           0.0              0.0   \n",
              "20741        0.0                 0.0           1.0              1.0   \n",
              "20742        1.0                 1.0           0.0              0.0   \n",
              "20743        1.0                 0.0           1.0              1.0   \n",
              "\n",
              "       tab4_catastrophic_exp_inp  tab5_needmet_med_inp  \n",
              "0                            0.0                   1.0  \n",
              "1                            0.0                   0.0  \n",
              "3                            0.0                   1.0  \n",
              "4                            0.0                   0.0  \n",
              "5                            0.0                   1.0  \n",
              "...                          ...                   ...  \n",
              "20738                        0.0                   1.0  \n",
              "20740                        0.0                   1.0  \n",
              "20741                        0.0                   1.0  \n",
              "20742                        0.0                   0.0  \n",
              "20743                        0.0                   0.0  \n",
              "\n",
              "[11698 rows x 6 columns]"
            ]
          },
          "execution_count": 2,
          "metadata": {},
          "output_type": "execute_result"
        }
      ],
      "source": [
        "ohie = pd.read_stata(file_path)\n",
        "needed = ['treatment', 'ohp_all_ever_admin', 'tab2bp_hyper', 'tab2phqtot_high', 'tab4_catastrophic_exp_inp', 'tab5_needmet_med_inp']\n",
        "ohie = ohie[needed]\n",
        "ohie['treatment'] = ohie.treatment.map({'Selected': 1, 'Not selected': 0})\n",
        "ohie['ohp_all_ever_admin'] = ohie.ohp_all_ever_admin.map({'Enrolled': 1, 'NOT enrolled': 0})\n",
        "ohie['tab4_catastrophic_exp_inp'] = ohie.tab4_catastrophic_exp_inp.map({'Yes': 1, 'No': 0})\n",
        "ohie['tab5_needmet_med_inp'] = ohie.tab5_needmet_med_inp.map({'Yes': 1, 'No': 0})\n",
        "ohie = ohie[~ohie.isnull().any(axis=1)]\n",
        "ohie = ohie.astype('float')\n",
        "ohie"
      ]
    },
    {
      "cell_type": "markdown",
      "metadata": {
        "id": "tz_Ngo-yyYyL"
      },
      "source": [
        "The last step (remove observations with missing values) would introduce selection bias. The values might be missing for some particular reason, suggesting that the distribution of values in the missing subgroup is different from the distribution of non-missing subgroup. The non-missing data is unrepresentative of the entire population. Therefore, removing all entries with missing values would make the distribution in the dataset more biased as opposed to the real distribution. "
      ]
    },
    {
      "cell_type": "markdown",
      "metadata": {
        "id": "eUrWZ-PL0Bf-"
      },
      "source": [
        "## Question2:\n",
        "Estimate the intent-to-treat effects of assignment to treat (being eligible to apply) on each of the four outcomes(elevated blood pressure, depression, catastrophic medical expenditure, and whether respondents had their health care needs met) with the difference-in-means estimator. Provide 95\\% confidence intervals for each estimate and interpret your results."
      ]
    },
    {
      "cell_type": "code",
      "execution_count": 3,
      "metadata": {
        "id": "745HYVjCSzUs"
      },
      "outputs": [],
      "source": [
        "from scipy.stats import norm\n",
        "scalar = norm.ppf(0.975)\n",
        "import numpy as np"
      ]
    },
    {
      "cell_type": "code",
      "execution_count": 4,
      "metadata": {
        "colab": {
          "base_uri": "https://localhost:8080/"
        },
        "id": "kNksOymZzNmL",
        "outputId": "813c1b99-1a3d-4840-d11c-9a5adb069ed8"
      },
      "outputs": [
        {
          "name": "stdout",
          "output_type": "stream",
          "text": [
            "For outcome tab2bp_hyper:\n",
            "difference in means estimate is: 0.001152523324475907\n",
            "95% confidence interval is: [-0.012113643151886162, 0.014418689800837976]\n",
            "\n",
            "For outcome tab2phqtot_high:\n",
            "difference in means estimate is: -0.03618385615229858\n",
            "95% confidence interval is: [-0.05257352312697057, -0.019794189177626587]\n",
            "\n",
            "For outcome tab4_catastrophic_exp_inp:\n",
            "difference in means estimate is: -0.01582130280903951\n",
            "95% confidence interval is: [-0.02342621360614194, -0.008216392011937083]\n",
            "\n",
            "For outcome tab5_needmet_med_inp:\n",
            "difference in means estimate is: 0.03218418235748255\n",
            "95% confidence interval is: [0.014650035474044955, 0.049718329240920144]\n",
            "\n"
          ]
        }
      ],
      "source": [
        "outcomes = ['tab2bp_hyper', 'tab2phqtot_high', 'tab4_catastrophic_exp_inp', 'tab5_needmet_med_inp']\n",
        "res = {}\n",
        "treated = ohie[ohie['treatment']==1]\n",
        "nontreated = ohie[ohie['treatment']==0]\n",
        "for outcome in outcomes:\n",
        "  dim = np.mean(treated[outcome]) - np.mean(nontreated[outcome])\n",
        "  std = np.sqrt(np.var(treated[outcome])/len(treated) + np.var(nontreated[outcome])/len(nontreated))\n",
        "  scalar = norm.ppf(0.975)\n",
        "  res[outcome] = (dim, [dim - scalar * std, dim + scalar * std])\n",
        "\n",
        "for k, v in res.items():\n",
        "  print(f'For outcome {k}:')\n",
        "  print(f'difference in means estimate is: {v[0]}')\n",
        "  print(f'95% confidence interval is: {v[1]}\\n')\n"
      ]
    },
    {
      "cell_type": "markdown",
      "metadata": {
        "id": "6qSMKDVFqS9t"
      },
      "source": [
        "0 is contained in the confidence interval for the elevated blood pressure outcome, so we cannot conclude that the effect of intent to treat is significant. For the other three outcomes, 0 is not contained in their confidence intervals, so we can reject the null and conclude the effect is significant. "
      ]
    },
    {
      "cell_type": "markdown",
      "metadata": {
        "id": "RSiAnZDbWMih"
      },
      "source": [
        "## Question3\n",
        "Suppose that researchers actually wanted to estimate the effect of Medicaid enrollment on each of the four outcomes. Suppose they first used the naive difference-in-means estimator with the indicator of Medicaid enrollment as a treatment. Report a 95\\% confidence interval for each of your estimates and interpret your results. Why might these be biased estimates for the causal effect of Medicaid enrollment?"
      ]
    },
    {
      "cell_type": "code",
      "execution_count": 5,
      "metadata": {
        "colab": {
          "base_uri": "https://localhost:8080/"
        },
        "id": "zkanVFt1X_25",
        "outputId": "be8b0a8b-a214-47be-f7f8-b06aeafbaffc"
      },
      "outputs": [
        {
          "name": "stdout",
          "output_type": "stream",
          "text": [
            "For outcome tab2bp_hyper:\n",
            "difference in means estimate is: -0.017036031831837523\n",
            "95% confidence interval is: [-0.03142630330196414, -0.0026457603617109048]\n",
            "\n",
            "For outcome tab2phqtot_high:\n",
            "difference in means estimate is: 0.05371271649193188\n",
            "95% confidence interval is: [0.03521688596084531, 0.07220854702301845]\n",
            "\n",
            "For outcome tab4_catastrophic_exp_inp:\n",
            "difference in means estimate is: -0.01046696969879271\n",
            "95% confidence interval is: [-0.018418232017771288, -0.002515707379814134]\n",
            "\n",
            "For outcome tab5_needmet_med_inp:\n",
            "difference in means estimate is: 0.05632700598358098\n",
            "95% confidence interval is: [0.03725105255005943, 0.07540295941710254]\n",
            "\n"
          ]
        }
      ],
      "source": [
        "res2 = {}\n",
        "enrolled = ohie[ohie['ohp_all_ever_admin']==1]\n",
        "nonenrolled = ohie[ohie['ohp_all_ever_admin']==0]\n",
        "for outcome in outcomes:\n",
        "  dim = np.mean(enrolled[outcome]) - np.mean(nonenrolled[outcome])\n",
        "  std = np.sqrt(np.var(enrolled[outcome])/len(enrolled) + np.var(nonenrolled[outcome])/len(nonenrolled))\n",
        "  scalar = norm.ppf(0.975)\n",
        "  res2[outcome] = (dim, [dim - scalar * std, dim + scalar * std])\n",
        "\n",
        "for k, v in res2.items():\n",
        "  print(f'For outcome {k}:')\n",
        "  print(f'difference in means estimate is: {v[0]}')\n",
        "  print(f'95% confidence interval is: {v[1]}\\n')\n"
      ]
    },
    {
      "cell_type": "markdown",
      "metadata": {
        "id": "X5FAZlHeQbBP"
      },
      "source": [
        "The estimates might be biased since the ignorability assumption does not hold. The four potential outcomes are not independent of medicaid enrollment. Individuals with  elevated blood pressure, positive screening result for depression, or catastrophic medical expenditure generally have worse health conditions and are more willing to enroll in medicaid if being eligible to apply. "
      ]
    },
    {
      "cell_type": "markdown",
      "metadata": {
        "id": "BIz0moNDL7_8"
      },
      "source": [
        "## Question4\n",
        "Suppose we were to use assignment to treatment as an instrument for actually receiving Medical coverage. \n",
        "Consider that not everyone who was selected to apply for Medicaiid actually ended up applying and receiving coverage. Likewise, some applicants who were not selected to receive the treatment nevertheless were eventually covered. What were the compliance rates (the level of Medicaid enrollment) for subjects who were selected and subjects who were not selected? Report the rate of Medicaid enrollment for the treated and the untreated, as well as the correlation between the treated and Medicaid enrollment. Is the instrument of assignment to treatment a strong instrument for actual Medicaid enrollment? What other assumptions do you need to identify the LATE in the subpopulation of compliers? Are they enforced here?"
      ]
    },
    {
      "cell_type": "code",
      "execution_count": 6,
      "metadata": {
        "colab": {
          "base_uri": "https://localhost:8080/"
        },
        "id": "GmzD4rf6Ms4n",
        "outputId": "e35cd83e-b5bf-4254-ed33-02495f765030"
      },
      "outputs": [
        {
          "name": "stdout",
          "output_type": "stream",
          "text": [
            "The rate of Medicaid enrollment for the treated is 0.4062346185397867\n",
            "The rate of Medicaid enrollment for the untreated is 0.15456005711226128\n"
          ]
        }
      ],
      "source": [
        "treated = ohie[ohie.treatment == 1.0]['ohp_all_ever_admin']\n",
        "treated_compliance = np.sum(treated)/len(treated)\n",
        "untreated = ohie[ohie.treatment == 0.0]['ohp_all_ever_admin']\n",
        "untreated_compliance = np.sum(untreated)/len(untreated)\n",
        "print(f'The rate of Medicaid enrollment for the treated is {treated_compliance}\\n\\\n",
        "The rate of Medicaid enrollment for the untreated is {untreated_compliance}')"
      ]
    },
    {
      "cell_type": "code",
      "execution_count": 7,
      "metadata": {
        "colab": {
          "base_uri": "https://localhost:8080/"
        },
        "id": "0YS9Y7kdNG7G",
        "outputId": "c1396a55-e112-468f-a180-6bd0beef4837"
      },
      "outputs": [
        {
          "name": "stdout",
          "output_type": "stream",
          "text": [
            "The correlation between the treated and Medicaid enrollment is :0.2783133560187883\n"
          ]
        }
      ],
      "source": [
        "correlation = ohie['treatment'].corr(ohie['ohp_all_ever_admin'])\n",
        "print(f'The correlation between the treated and Medicaid enrollment is :{correlation}')"
      ]
    },
    {
      "cell_type": "markdown",
      "metadata": {
        "id": "u9TI6-vsVrOu"
      },
      "source": [
        "The instrument of assignment to treatment is not a strong instrument for actual Medicaid enrollment since the correlation between the two is pretty low (0.27).\n",
        "\n",
        "To identfy the LATE in the subpopulation of compliers, the monotonicity assumption that the instrument does not dissuade to get treated is assumed: $\\forall i, T_i(Z=1) \\geq T_i(Z=0)$. It is enforced only when there is no defier in the dataset: $T(Z=1)=0, T(Z=0) = 1$ where $Z$ is the `treatment` column and the T is the `ohp_all_ever_admin` in the dataset. In this case, the monotonicity is enforced because being eligible for Medicaid enrollment does not decrease people's willingness to enroll. "
      ]
    },
    {
      "cell_type": "markdown",
      "metadata": {
        "id": "CQZbQdQybgYa"
      },
      "source": [
        "## Question5\n",
        "\n",
        "Now estimate the LATE of Medicaid enrollment on each of the four outcomes using an instrumental variables strategy (you can use the `IV2SLS` function from the module `linearmodels.iv`. Report a 95\\% confidence interval for your estimates and interpret your results. Compare the estimates to those you obtained in Question3)"
      ]
    },
    {
      "cell_type": "code",
      "execution_count": 8,
      "metadata": {
        "colab": {
          "base_uri": "https://localhost:8080/"
        },
        "id": "vXHVq9WAf41Q",
        "outputId": "353ead05-6830-4aa3-e3a7-02544fe17401"
      },
      "outputs": [
        {
          "name": "stdout",
          "output_type": "stream",
          "text": [
            "Looking in indexes: https://pypi.org/simple, https://us-python.pkg.dev/colab-wheels/public/simple/\n",
            "Collecting linearmodels\n",
            "  Downloading linearmodels-4.27-cp38-cp38-manylinux_2_17_x86_64.manylinux2014_x86_64.whl (1.5 MB)\n",
            "\u001b[K     |████████████████████████████████| 1.5 MB 5.1 MB/s \n",
            "\u001b[?25hCollecting mypy-extensions>=0.4\n",
            "  Downloading mypy_extensions-0.4.3-py2.py3-none-any.whl (4.5 kB)\n",
            "Requirement already satisfied: statsmodels>=0.11 in /usr/local/lib/python3.8/dist-packages (from linearmodels) (0.12.2)\n",
            "Requirement already satisfied: pandas>=0.24 in /usr/local/lib/python3.8/dist-packages (from linearmodels) (1.3.5)\n",
            "Requirement already satisfied: numpy>=1.16 in /usr/local/lib/python3.8/dist-packages (from linearmodels) (1.21.6)\n",
            "Requirement already satisfied: scipy>=1.2 in /usr/local/lib/python3.8/dist-packages (from linearmodels) (1.7.3)\n",
            "Collecting pyhdfe>=0.1\n",
            "  Downloading pyhdfe-0.1.1-py3-none-any.whl (18 kB)\n",
            "Collecting formulaic~=0.3.2\n",
            "  Downloading formulaic-0.3.4-py3-none-any.whl (68 kB)\n",
            "\u001b[K     |████████████████████████████████| 68 kB 5.7 MB/s \n",
            "\u001b[?25hCollecting property-cached>=1.6.3\n",
            "  Downloading property_cached-1.6.4-py2.py3-none-any.whl (7.8 kB)\n",
            "Collecting setuptools-scm<7.0.0,>=6.4.2\n",
            "  Downloading setuptools_scm-6.4.2-py3-none-any.whl (37 kB)\n",
            "Requirement already satisfied: Cython>=0.29.21 in /usr/local/lib/python3.8/dist-packages (from linearmodels) (0.29.32)\n",
            "Collecting interface-meta<2.0.0,>=1.2.0\n",
            "  Downloading interface_meta-1.3.0-py3-none-any.whl (14 kB)\n",
            "Requirement already satisfied: astor>=0.8 in /usr/local/lib/python3.8/dist-packages (from formulaic~=0.3.2->linearmodels) (0.8.1)\n",
            "Requirement already satisfied: wrapt>=1.0 in /usr/local/lib/python3.8/dist-packages (from formulaic~=0.3.2->linearmodels) (1.14.1)\n",
            "Requirement already satisfied: python-dateutil>=2.7.3 in /usr/local/lib/python3.8/dist-packages (from pandas>=0.24->linearmodels) (2.8.2)\n",
            "Requirement already satisfied: pytz>=2017.3 in /usr/local/lib/python3.8/dist-packages (from pandas>=0.24->linearmodels) (2022.6)\n",
            "Requirement already satisfied: six>=1.5 in /usr/local/lib/python3.8/dist-packages (from python-dateutil>=2.7.3->pandas>=0.24->linearmodels) (1.15.0)\n",
            "Requirement already satisfied: tomli>=1.0.0 in /usr/local/lib/python3.8/dist-packages (from setuptools-scm<7.0.0,>=6.4.2->linearmodels) (2.0.1)\n",
            "Requirement already satisfied: packaging>=20.0 in /usr/local/lib/python3.8/dist-packages (from setuptools-scm<7.0.0,>=6.4.2->linearmodels) (21.3)\n",
            "Requirement already satisfied: setuptools in /usr/local/lib/python3.8/dist-packages (from setuptools-scm<7.0.0,>=6.4.2->linearmodels) (57.4.0)\n",
            "Requirement already satisfied: pyparsing!=3.0.5,>=2.0.2 in /usr/local/lib/python3.8/dist-packages (from packaging>=20.0->setuptools-scm<7.0.0,>=6.4.2->linearmodels) (3.0.9)\n",
            "Requirement already satisfied: patsy>=0.5 in /usr/local/lib/python3.8/dist-packages (from statsmodels>=0.11->linearmodels) (0.5.3)\n",
            "Installing collected packages: interface-meta, setuptools-scm, pyhdfe, property-cached, mypy-extensions, formulaic, linearmodels\n",
            "Successfully installed formulaic-0.3.4 interface-meta-1.3.0 linearmodels-4.27 mypy-extensions-0.4.3 property-cached-1.6.4 pyhdfe-0.1.1 setuptools-scm-6.4.2\n"
          ]
        }
      ],
      "source": [
        "! pip install linearmodels\n",
        "import linearmodels as lm\n",
        "from linearmodels.iv import IV2SLS"
      ]
    },
    {
      "cell_type": "code",
      "execution_count": 9,
      "metadata": {
        "id": "xj_TkikbalFk"
      },
      "outputs": [],
      "source": [
        "\n",
        "compliers = ohie.copy()\n",
        "compliers = compliers.assign(const = 1)\n",
        "res3 = {}\n",
        "def late_iv(outcome):\n",
        "  return IV2SLS(dependent = compliers[outcome], #outcome\n",
        "        endog = compliers.ohp_all_ever_admin, #treatment\n",
        "        exog = compliers.const, #we just add a constant as covariate\n",
        "        instruments = compliers.treatment #Instrument\n",
        "        ).fit(cov_type = \"unadjusted\")"
      ]
    },
    {
      "cell_type": "code",
      "execution_count": 10,
      "metadata": {
        "id": "EhJW6wU0iNj9"
      },
      "outputs": [],
      "source": [
        "o1 = late_iv('tab2bp_hyper')\n",
        "o2 = late_iv('tab2phqtot_high')\n",
        "o3 = late_iv('tab4_catastrophic_exp_inp')\n",
        "o4 = late_iv('tab5_needmet_med_inp')"
      ]
    },
    {
      "cell_type": "code",
      "execution_count": 11,
      "metadata": {
        "colab": {
          "base_uri": "https://localhost:8080/"
        },
        "id": "8qa0AY8pkshb",
        "outputId": "cc7e904d-c32e-4dc2-e05b-c81c1ed8c825"
      },
      "outputs": [
        {
          "name": "stdout",
          "output_type": "stream",
          "text": [
            "                          IV-2SLS Estimation Summary                          \n",
            "==============================================================================\n",
            "Dep. Variable:           tab2bp_hyper   R-squared:                     -0.0003\n",
            "Estimator:                    IV-2SLS   Adj. R-squared:                -0.0004\n",
            "No. Observations:               11698   F-statistic:                    0.0290\n",
            "Date:                Tue, Dec 06 2022   P-value (F-stat)                0.8648\n",
            "Time:                        22:12:35   Distribution:                  chi2(1)\n",
            "Cov. Estimator:            unadjusted                                         \n",
            "                                                                              \n",
            "                                 Parameter Estimates                                  \n",
            "======================================================================================\n",
            "                    Parameter  Std. Err.     T-stat    P-value    Lower CI    Upper CI\n",
            "--------------------------------------------------------------------------------------\n",
            "const                  0.1578     0.0084     18.791     0.0000      0.1413      0.1742\n",
            "ohp_all_ever_admin     0.0046     0.0269     0.1702     0.8648     -0.0481      0.0573\n",
            "======================================================================================\n",
            "\n",
            "Endogenous: ohp_all_ever_admin\n",
            "Instruments: treatment\n",
            "Unadjusted Covariance (Homoskedastic)\n",
            "Debiased: False \n",
            "\n",
            "\n",
            "\n",
            "                          IV-2SLS Estimation Summary                          \n",
            "==============================================================================\n",
            "Dep. Variable:        tab2phqtot_high   R-squared:                     -0.0362\n",
            "Estimator:                    IV-2SLS   Adj. R-squared:                -0.0362\n",
            "No. Observations:               11698   F-statistic:                    18.099\n",
            "Date:                Tue, Dec 06 2022   P-value (F-stat)                0.0000\n",
            "Time:                        22:12:36   Distribution:                  chi2(1)\n",
            "Cov. Estimator:            unadjusted                                         \n",
            "                                                                              \n",
            "                                 Parameter Estimates                                  \n",
            "======================================================================================\n",
            "                    Parameter  Std. Err.     T-stat    P-value    Lower CI    Upper CI\n",
            "--------------------------------------------------------------------------------------\n",
            "const                  0.3262     0.0105     30.921     0.0000      0.3055      0.3468\n",
            "ohp_all_ever_admin    -0.1438     0.0338    -4.2543     0.0000     -0.2100     -0.0775\n",
            "======================================================================================\n",
            "\n",
            "Endogenous: ohp_all_ever_admin\n",
            "Instruments: treatment\n",
            "Unadjusted Covariance (Homoskedastic)\n",
            "Debiased: False \n",
            "\n",
            "\n",
            "\n",
            "                              IV-2SLS Estimation Summary                             \n",
            "=====================================================================================\n",
            "Dep. Variable:     tab4_catastrophic_exp_inp   R-squared:                     -0.0124\n",
            "Estimator:                           IV-2SLS   Adj. R-squared:                -0.0125\n",
            "No. Observations:                      11698   F-statistic:                    16.628\n",
            "Date:                       Tue, Dec 06 2022   P-value (F-stat)                0.0000\n",
            "Time:                               22:12:36   Distribution:                  chi2(1)\n",
            "Cov. Estimator:                   unadjusted                                         \n",
            "                                                                                     \n",
            "                                 Parameter Estimates                                  \n",
            "======================================================================================\n",
            "                    Parameter  Std. Err.     T-stat    P-value    Lower CI    Upper CI\n",
            "--------------------------------------------------------------------------------------\n",
            "const                  0.0634     0.0048     13.183     0.0000      0.0540      0.0729\n",
            "ohp_all_ever_admin    -0.0629     0.0154    -4.0777     0.0000     -0.0931     -0.0326\n",
            "======================================================================================\n",
            "\n",
            "Endogenous: ohp_all_ever_admin\n",
            "Instruments: treatment\n",
            "Unadjusted Covariance (Homoskedastic)\n",
            "Debiased: False \n",
            "\n",
            "\n",
            "\n",
            "                           IV-2SLS Estimation Summary                           \n",
            "================================================================================\n",
            "Dep. Variable:     tab5_needmet_med_inp   R-squared:                     -0.0017\n",
            "Estimator:                      IV-2SLS   Adj. R-squared:                -0.0018\n",
            "No. Observations:                 11698   F-statistic:                    12.925\n",
            "Date:                  Tue, Dec 06 2022   P-value (F-stat)                0.0003\n",
            "Time:                          22:12:36   Distribution:                  chi2(1)\n",
            "Cov. Estimator:              unadjusted                                         \n",
            "                                                                                \n",
            "                                 Parameter Estimates                                  \n",
            "======================================================================================\n",
            "                    Parameter  Std. Err.     T-stat    P-value    Lower CI    Upper CI\n",
            "--------------------------------------------------------------------------------------\n",
            "const                  0.5917     0.0111     53.293     0.0000      0.5699      0.6135\n",
            "ohp_all_ever_admin     0.1279     0.0356     3.5952     0.0003      0.0582      0.1976\n",
            "======================================================================================\n",
            "\n",
            "Endogenous: ohp_all_ever_admin\n",
            "Instruments: treatment\n",
            "Unadjusted Covariance (Homoskedastic)\n",
            "Debiased: False \n",
            "\n",
            "\n",
            "\n"
          ]
        }
      ],
      "source": [
        "print(o1.summary, '\\n\\n\\n')\n",
        "print(o2.summary,  '\\n\\n\\n')\n",
        "print(o3.summary,  '\\n\\n\\n')\n",
        "print(o4.summary,  '\\n\\n\\n')"
      ]
    },
    {
      "cell_type": "code",
      "execution_count": 18,
      "metadata": {
        "colab": {
          "base_uri": "https://localhost:8080/"
        },
        "id": "BgS1RxKsf8Uc",
        "outputId": "43cc68ad-c690-473f-c10d-b47908b6d3d7"
      },
      "outputs": [
        {
          "data": {
            "text/plain": [
              "0.026901150245814597"
            ]
          },
          "execution_count": 18,
          "metadata": {},
          "output_type": "execute_result"
        }
      ],
      "source": []
    },
    {
      "cell_type": "code",
      "execution_count": 19,
      "metadata": {
        "id": "sjhZu4gYkAai"
      },
      "outputs": [],
      "source": [
        "res3['tab2bp_hyper'] = (o1.params['ohp_all_ever_admin'], [o1.params['ohp_all_ever_admin'] - scalar * o1.std_errors[1], o1.params['ohp_all_ever_admin'] + scalar * o1.std_errors[1]])\n",
        "res3['tab2phqtot_high'] = (o2.params['ohp_all_ever_admin'], [o2.params['ohp_all_ever_admin'] - scalar * o2.std_errors[1], o2.params['ohp_all_ever_admin'] + scalar * o2.std_errors[1]])\n",
        "res3['tab4_catastrophic_exp_inp'] = (o3.params['ohp_all_ever_admin'], [o3.params['ohp_all_ever_admin'] - scalar * o3.std_errors[1], o3.params['ohp_all_ever_admin'] + scalar * o3.std_errors[1]])\n",
        "res3['tab5_needmet_med_inp'] = (o4.params['ohp_all_ever_admin'], [o4.params['ohp_all_ever_admin'] - scalar * o4.std_errors[1], o4.params['ohp_all_ever_admin'] + scalar * o4.std_errors[1]])"
      ]
    },
    {
      "cell_type": "code",
      "execution_count": 20,
      "metadata": {
        "colab": {
          "base_uri": "https://localhost:8080/",
          "height": 175
        },
        "id": "OWBOsl6jrSXN",
        "outputId": "c11f1989-8110-48ac-9c85-3d4167c2b4a8"
      },
      "outputs": [
        {
          "data": {
            "text/html": [
              "\n",
              "  <div id=\"df-4dfb458b-c36a-416a-ae35-bd27f0f6a4af\">\n",
              "    <div class=\"colab-df-container\">\n",
              "      <div>\n",
              "<style scoped>\n",
              "    .dataframe tbody tr th:only-of-type {\n",
              "        vertical-align: middle;\n",
              "    }\n",
              "\n",
              "    .dataframe tbody tr th {\n",
              "        vertical-align: top;\n",
              "    }\n",
              "\n",
              "    .dataframe thead th {\n",
              "        text-align: right;\n",
              "    }\n",
              "</style>\n",
              "<table border=\"1\" class=\"dataframe\">\n",
              "  <thead>\n",
              "    <tr style=\"text-align: right;\">\n",
              "      <th></th>\n",
              "      <th>iv-2sls</th>\n",
              "      <th>iv-2sls CI</th>\n",
              "      <th>diff_in_means</th>\n",
              "      <th>diff_in_means_CI</th>\n",
              "    </tr>\n",
              "  </thead>\n",
              "  <tbody>\n",
              "    <tr>\n",
              "      <th>tab2bp_hyper</th>\n",
              "      <td>0.004579</td>\n",
              "      <td>[-0.0481458664017568, 0.05730470484723806]</td>\n",
              "      <td>-0.017036</td>\n",
              "      <td>[-0.03142630330196414, -0.0026457603617109048]</td>\n",
              "    </tr>\n",
              "    <tr>\n",
              "      <th>tab2phqtot_high</th>\n",
              "      <td>-0.143772</td>\n",
              "      <td>[-0.21000905002576267, -0.07753575344630356]</td>\n",
              "      <td>0.053713</td>\n",
              "      <td>[0.03521688596084531, 0.07220854702301845]</td>\n",
              "    </tr>\n",
              "    <tr>\n",
              "      <th>tab4_catastrophic_exp_inp</th>\n",
              "      <td>-0.062864</td>\n",
              "      <td>[-0.09307997225016175, -0.032648291419390726]</td>\n",
              "      <td>-0.010467</td>\n",
              "      <td>[-0.018418232017771288, -0.002515707379814134]</td>\n",
              "    </tr>\n",
              "    <tr>\n",
              "      <th>tab5_needmet_med_inp</th>\n",
              "      <td>0.12788</td>\n",
              "      <td>[0.05816395119062806, 0.19759636224693095]</td>\n",
              "      <td>0.056327</td>\n",
              "      <td>[0.03725105255005943, 0.07540295941710254]</td>\n",
              "    </tr>\n",
              "  </tbody>\n",
              "</table>\n",
              "</div>\n",
              "      <button class=\"colab-df-convert\" onclick=\"convertToInteractive('df-4dfb458b-c36a-416a-ae35-bd27f0f6a4af')\"\n",
              "              title=\"Convert this dataframe to an interactive table.\"\n",
              "              style=\"display:none;\">\n",
              "        \n",
              "  <svg xmlns=\"http://www.w3.org/2000/svg\" height=\"24px\"viewBox=\"0 0 24 24\"\n",
              "       width=\"24px\">\n",
              "    <path d=\"M0 0h24v24H0V0z\" fill=\"none\"/>\n",
              "    <path d=\"M18.56 5.44l.94 2.06.94-2.06 2.06-.94-2.06-.94-.94-2.06-.94 2.06-2.06.94zm-11 1L8.5 8.5l.94-2.06 2.06-.94-2.06-.94L8.5 2.5l-.94 2.06-2.06.94zm10 10l.94 2.06.94-2.06 2.06-.94-2.06-.94-.94-2.06-.94 2.06-2.06.94z\"/><path d=\"M17.41 7.96l-1.37-1.37c-.4-.4-.92-.59-1.43-.59-.52 0-1.04.2-1.43.59L10.3 9.45l-7.72 7.72c-.78.78-.78 2.05 0 2.83L4 21.41c.39.39.9.59 1.41.59.51 0 1.02-.2 1.41-.59l7.78-7.78 2.81-2.81c.8-.78.8-2.07 0-2.86zM5.41 20L4 18.59l7.72-7.72 1.47 1.35L5.41 20z\"/>\n",
              "  </svg>\n",
              "      </button>\n",
              "      \n",
              "  <style>\n",
              "    .colab-df-container {\n",
              "      display:flex;\n",
              "      flex-wrap:wrap;\n",
              "      gap: 12px;\n",
              "    }\n",
              "\n",
              "    .colab-df-convert {\n",
              "      background-color: #E8F0FE;\n",
              "      border: none;\n",
              "      border-radius: 50%;\n",
              "      cursor: pointer;\n",
              "      display: none;\n",
              "      fill: #1967D2;\n",
              "      height: 32px;\n",
              "      padding: 0 0 0 0;\n",
              "      width: 32px;\n",
              "    }\n",
              "\n",
              "    .colab-df-convert:hover {\n",
              "      background-color: #E2EBFA;\n",
              "      box-shadow: 0px 1px 2px rgba(60, 64, 67, 0.3), 0px 1px 3px 1px rgba(60, 64, 67, 0.15);\n",
              "      fill: #174EA6;\n",
              "    }\n",
              "\n",
              "    [theme=dark] .colab-df-convert {\n",
              "      background-color: #3B4455;\n",
              "      fill: #D2E3FC;\n",
              "    }\n",
              "\n",
              "    [theme=dark] .colab-df-convert:hover {\n",
              "      background-color: #434B5C;\n",
              "      box-shadow: 0px 1px 3px 1px rgba(0, 0, 0, 0.15);\n",
              "      filter: drop-shadow(0px 1px 2px rgba(0, 0, 0, 0.3));\n",
              "      fill: #FFFFFF;\n",
              "    }\n",
              "  </style>\n",
              "\n",
              "      <script>\n",
              "        const buttonEl =\n",
              "          document.querySelector('#df-4dfb458b-c36a-416a-ae35-bd27f0f6a4af button.colab-df-convert');\n",
              "        buttonEl.style.display =\n",
              "          google.colab.kernel.accessAllowed ? 'block' : 'none';\n",
              "\n",
              "        async function convertToInteractive(key) {\n",
              "          const element = document.querySelector('#df-4dfb458b-c36a-416a-ae35-bd27f0f6a4af');\n",
              "          const dataTable =\n",
              "            await google.colab.kernel.invokeFunction('convertToInteractive',\n",
              "                                                     [key], {});\n",
              "          if (!dataTable) return;\n",
              "\n",
              "          const docLinkHtml = 'Like what you see? Visit the ' +\n",
              "            '<a target=\"_blank\" href=https://colab.research.google.com/notebooks/data_table.ipynb>data table notebook</a>'\n",
              "            + ' to learn more about interactive tables.';\n",
              "          element.innerHTML = '';\n",
              "          dataTable['output_type'] = 'display_data';\n",
              "          await google.colab.output.renderOutput(dataTable, element);\n",
              "          const docLink = document.createElement('div');\n",
              "          docLink.innerHTML = docLinkHtml;\n",
              "          element.appendChild(docLink);\n",
              "        }\n",
              "      </script>\n",
              "    </div>\n",
              "  </div>\n",
              "  "
            ],
            "text/plain": [
              "                            iv-2sls  \\\n",
              "tab2bp_hyper               0.004579   \n",
              "tab2phqtot_high           -0.143772   \n",
              "tab4_catastrophic_exp_inp -0.062864   \n",
              "tab5_needmet_med_inp        0.12788   \n",
              "\n",
              "                                                              iv-2sls CI  \\\n",
              "tab2bp_hyper                  [-0.0481458664017568, 0.05730470484723806]   \n",
              "tab2phqtot_high             [-0.21000905002576267, -0.07753575344630356]   \n",
              "tab4_catastrophic_exp_inp  [-0.09307997225016175, -0.032648291419390726]   \n",
              "tab5_needmet_med_inp          [0.05816395119062806, 0.19759636224693095]   \n",
              "\n",
              "                          diff_in_means  \\\n",
              "tab2bp_hyper                  -0.017036   \n",
              "tab2phqtot_high                0.053713   \n",
              "tab4_catastrophic_exp_inp     -0.010467   \n",
              "tab5_needmet_med_inp           0.056327   \n",
              "\n",
              "                                                         diff_in_means_CI  \n",
              "tab2bp_hyper               [-0.03142630330196414, -0.0026457603617109048]  \n",
              "tab2phqtot_high                [0.03521688596084531, 0.07220854702301845]  \n",
              "tab4_catastrophic_exp_inp  [-0.018418232017771288, -0.002515707379814134]  \n",
              "tab5_needmet_med_inp           [0.03725105255005943, 0.07540295941710254]  "
            ]
          },
          "execution_count": 20,
          "metadata": {},
          "output_type": "execute_result"
        }
      ],
      "source": [
        "df_res3 = pd.DataFrame.from_dict(res3).transpose().rename(columns = {0: \"iv-2sls\", 1: \"iv-2sls CI\"})\n",
        "df_res2 = pd.DataFrame.from_dict(res2).transpose().rename(columns = {0: \"diff_in_means\", 1: \"diff_in_means_CI\"})\n",
        "df_res3.join(df_res2)"
      ]
    },
    {
      "cell_type": "markdown",
      "metadata": {
        "id": "enf2C5bN2S5a"
      },
      "source": [
        "The confidence interval of iv-2sls estimator is wider than that of the naive difference in mean estimator in question 3. The confidence interval for all four variables now coontain 0, so we fail to conclude that the effects of medicaid enrollment on each of these four ooutcmes are significant."
      ]
    },
    {
      "cell_type": "markdown",
      "metadata": {
        "id": "k1ca5QXkszdG"
      },
      "source": [
        "##Question 6\n",
        "What additional assumptions do you have to make in order to interpret your estimates from Question 5 as an Average Treatment Effect for the entire sample?"
      ]
    },
    {
      "cell_type": "markdown",
      "metadata": {
        "id": "fvIF5NWuu-RQ"
      },
      "source": [
        "assumption of a linear setting. the relationship between instrumental variable, treatment, and outcome might be nonlinear.\n",
        "\n",
        "assumption that the treatment effects are constant so that the LATE of the subpopulation of compliers is generalizable to the entire sample. If effects are heterogeneous, the treatment effect we get in the previous question is not represenative of all the units in the sample. \n",
        "\n",
        "assumption that all individuals in the dataset are compliers. There is no defier whose treatment is dissuaded by the instrument.\n"
      ]
    }
  ],
  "metadata": {
    "colab": {
      "provenance": []
    },
    "kernelspec": {
      "display_name": "Python 3.8.9 64-bit",
      "language": "python",
      "name": "python3"
    },
    "language_info": {
      "name": "python",
      "version": "3.8.9"
    },
    "vscode": {
      "interpreter": {
        "hash": "31f2aee4e71d21fbe5cf8b01ff0e069b9275f58929596ceb00d14d90e3e16cd6"
      }
    }
  },
  "nbformat": 4,
  "nbformat_minor": 0
}
