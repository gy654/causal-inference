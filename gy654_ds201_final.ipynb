{
  "cells": [
    {
      "cell_type": "markdown",
      "metadata": {
        "id": "7cbfimjUxEOl"
      },
      "source": [
        "\n",
        "<h2><center>DS-201 Final</center></h2>\n",
        "<h2><center>Grace Yang</center></h2>\n",
        "<h2><center>gy654, N10610063</center></h2>"
      ]
    },
    {
      "cell_type": "markdown",
      "metadata": {
        "id": "Eq26j10PxLzz"
      },
      "source": [
        "## Exercise1 Instrumental variables\n",
        "\n",
        "Patients who get surgery, for example for orthopaedic reasons, are often advised by the doctors, subsequenly to surgery, to get physitherapy, that is, a series of exercises to help rehabilitation and more complete recovery. However, the costs oof physiotherapy may often deter patients from following it. It is therefore important to try t show the potential benefits of physiootherapy, so that more patients can become convinced to follow it. \n",
        "\n",
        "In the period of 4 years, three cooperating hospitals randomly assigned each of the 537 eligible patietnts, who had gone through an orthopeadic operation, in one of the two groups: patients in the first group, $(Z_i = 1)$, were offered the opportunity t get physiotherapy at 50% reduced hospital fees; for patients assigned in the second group, physiotherapy was available at the standard cost. For each patient, therecorded variables, in addition to assignment $Z_i$ are: whether or not the patient got physiotherapy, $T_i^{obs} = 1$ for yes, 0 for no; an assessment of the patients recovery 3 months after surgery, $T_{i}^{obs} = 1$ for satisfactory, 0 for unsatisfactory or poor. The assessment of this studys data was done by physicians blinded to both the assignment $Z_i$ and the taking (or not) of physiotherapy by the patient. The table below gives the counts, $n_{zty}$, of patients assigned $Z_i = z$ and with physiotherapy-taking status $T_{i}^{obs} = t$ and ooutcome $Y_i^{obs} = y$\n",
        "\n",
        "|   | Z | T_obs | Y_obs | n   |\n",
        "|---|---|-------|-------|-----|\n",
        "| 0 | 0 | 0     | 0     | 185 |\n",
        "| 1 | 0 | 0     | 1     | 123 |\n",
        "| 2 | 0 | 1     | 0     | 9   |\n",
        "| 3 | 0 | 1     | 1     | 41  |\n",
        "| 4 | 1 | 0     | 0     | 37  |\n",
        "| 5 | 1 | 0     | 1     | 20  |\n",
        "| 6 | 1 | 1     | 0     | 26  |\n",
        "| 7 | 1 | 1     | 1     | 96  |"
      ]
    },
    {
      "cell_type": "markdown",
      "metadata": {
        "id": "20ICxNzd0z__"
      },
      "source": [
        "## Question1\n",
        "Estimate the intention--to-treat (ITT) effect of offering the discount on the imprvement of recovery, $E[Y(Z = 1)] - E[Y(Z=0)]$, using a difference-in-means estimator. Also estimate the standard error and the asymptotic 95% confidence interval. Explain why, the ITT effect can be different from the contrast that compares outcomes $Y^{obs}$ of the patients who take vs. do not take physiotherapy.\n",
        "\n",
        "Be aware that the input data is aggregated, so you should either used weighted estimators (for the mean and standard error). You can use Python code for computations, and in that case manually create the input dataframe from the given table."
      ]
    },
    {
      "cell_type": "code",
      "execution_count": 28,
      "metadata": {
        "colab": {
          "base_uri": "https://localhost:8080/"
        },
        "id": "oHViD16K53aR",
        "outputId": "3433a7ec-5b3a-433b-8172-a244aebf044f"
      },
      "outputs": [
        {
          "name": "stdout",
          "output_type": "stream",
          "text": [
            "ITT:Effect of offering discount: 0.18994413407821226\n",
            "Effect of offering discount CI: [0.10300419605553315, 0.2768840721008914]\n",
            "Effect of receiving physiotherapy: 0.4047308059891685\n",
            "Effect of receiving physiotherapy CI: [0.3264505203039836, 0.4830110916743534]\n"
          ]
        }
      ],
      "source": [
        "import pandas as pd\n",
        "import numpy as np\n",
        "from scipy.stats import norm\n",
        "\n",
        "scalar = norm.ppf(0.975)\n",
        "df = pd.concat([\n",
        "  pd.concat([pd.DataFrame([[0, 0, 0]])] * 185),\n",
        "  pd.concat([pd.DataFrame([[0, 0, 1]])] * 123),\n",
        "  pd.concat([pd.DataFrame([[0, 1, 0]])] * 9),\n",
        "  pd.concat([pd.DataFrame([[0, 1, 1]])] * 41),\n",
        "  pd.concat([pd.DataFrame([[1, 0, 0]])] * 37),\n",
        "  pd.concat([pd.DataFrame([[1, 0, 1]])] * 20),\n",
        "  pd.concat([pd.DataFrame([[1, 1, 0]])] * 26),\n",
        "  pd.concat([pd.DataFrame([[1, 1, 1]])] * 96)\n",
        "])\n",
        "\n",
        "df.rename(columns = {0:'Z', 1:'T', 2:'Y'}, inplace = True)\n",
        "Z_control, Z_treat = df[df['Z'] == 0], df[df['Z'] == 1]\n",
        "T_control, T_treat = df[df['T'] == 0], df[df['T'] == 1]\n",
        "Z_eff = np.mean(Z_treat.Y) - np.mean(Z_control.Y)\n",
        "std_z = np.sqrt(np.var(Z_control.Y)/len(Z_control) + np.var(Z_treat.Y)/len(Z_treat))\n",
        "T_eff = np.mean(T_treat.Y) - np.mean(T_control.Y)\n",
        "std_t = np.sqrt(np.var(T_control.Y)/len(T_control) + np.var(T_treat.Y)/len(T_treat))\n",
        "\n",
        "print(f'ITT:Effect of offering discount: {Z_eff}')\n",
        "print(f'Effect of offering discount CI: [{Z_eff - scalar * std_z}, {Z_eff + scalar * std_z}]')\n",
        "print(f'Effect of receiving physiotherapy: {T_eff}')\n",
        "print(f'Effect of receiving physiotherapy CI: [{T_eff - scalar * std_t}, {T_eff + scalar * std_t}]')\n"
      ]
    },
    {
      "cell_type": "markdown",
      "metadata": {
        "id": "yJ2OiLyn1oM4"
      },
      "source": [
        "**intention-to-treat-effect**\n",
        "$E[Y(Z=1)] - E[Y(Z=0)] = 0.18994413407821226$\n",
        "\n",
        "**physiotherapy treat effect**\n",
        "$E[Y(T=1)] - E[Y(T = 0)]  = 0.4047308059891685$"
      ]
    },
    {
      "cell_type": "markdown",
      "metadata": {
        "id": "JzAFTFyA2tQ-"
      },
      "source": [
        "The two estimated effect are different since $Z=1$(being offered fee discount) increased the chances of $T=1$(take the physiotherapy treatment), but T is not determined by Z and the compliance rate is not 100%. There are still people who are offered discount but still does not take physiotherapy. The distribution of people receiving the discount and the distribution of people receiving the actual treatment are still different, resulting in disparate effects. "
      ]
    },
    {
      "cell_type": "markdown",
      "metadata": {
        "id": "N4tJfI2m9h_O"
      },
      "source": [
        "## Question2:\n",
        "In plain language of this setting, and using the potential treatment notation, what are the four possible strata defined by the instrument and the treatment values?\n",
        "\n",
        "- 1-st strata: compliers if not offered discount to physiotherapy would not take the physiotherapy treatment, if offered discount, would take physiotherapy treatment: $T(Z=0)= 0, T(Z=1) = 1$\n",
        "- 2-nd strata: defiers if not offered discount to physiotherapy would take the physiotherapy treatment, if offered discount, would not take physiotherapy treatment: $T(Z=0)= 1, T(Z=1) = 0$\n",
        "- 3-rd strata: always-takers who will always take the physiotherapy treatment whether or not offered discount: $T(Z=0)= 1, T(Z=1) = 1$\n",
        "- 4-th strata: never-takers who will never take the physiotherapy treatment whether or not offered discount: $T(Z=0)= 0, T(Z=1) = 0$\n"
      ]
    },
    {
      "cell_type": "markdown",
      "metadata": {
        "id": "TrZd5s_ABxDU"
      },
      "source": [
        "## Quesion3:\n",
        "In plain language of this setting, and in terms of potential outcomes, state the four assumptions under which the randomizer $Z_i$ is an `instrument`, and the local ATE is non-parametrically identified. Discuss their plausibility."
      ]
    },
    {
      "cell_type": "markdown",
      "metadata": {
        "id": "wjacIw5eDyAU"
      },
      "source": [
        "- assumption1: monotonicity assumption that the instrument does not dissuade to get treated. It is plausible in this case since being offered discount in physiotherapy does not dissuade people to get physiotherapy treatment. No defiers ($T(Z=0) = 1, T(Z=1) = 0$)\n",
        "- assumption2: The instrument variable must not be confounded, there is no backdoor path from Z to Y. It is plausible in this case since patients are randomly assigned whether to be offered a discount, so there is no confounding variable.\n",
        "- assumption3: Relavance assumption, the instrument varibale needs to have a causal effect on the treatment variable. It is plausible in this case since the discount will motivate people to receive physiotherapy treatment.\n",
        "- assumption4: exclusion restriction: the causal effect of the instrument on the outcome is completely mediated by the treatment.It is plausible in this case since being offered a discount would improve patients' recovery only through the mean of encouraging patients to receive physiotherapy. "
      ]
    },
    {
      "cell_type": "markdown",
      "metadata": {
        "id": "NPIBM_AVKb7E"
      },
      "source": [
        "## Question4\n",
        "Which of the assumptions from the question 3 is/are enough to estimate the proportion of `never-takers`, i.e. patients who would not take physiotherapy whether or not they had been offered the discount in this study? Under this/these assumptions, report estimates of the proportions of the group defined in question2.\n"
      ]
    },
    {
      "cell_type": "markdown",
      "metadata": {
        "id": "K9xbqR6tPJpg"
      },
      "source": [
        "\n",
        "The monotonicity assumption is enough to estimate the proportion of never-takers, since those with $Z=0$ in the dataset can only be never-takers rather than defiers with this assumption."
      ]
    },
    {
      "cell_type": "code",
      "execution_count": 7,
      "metadata": {
        "colab": {
          "base_uri": "https://localhost:8080/"
        },
        "id": "GYMEsH5W2N0Z",
        "outputId": "447c9022-f65b-4eb2-8e75-f05c6548ec14"
      },
      "outputs": [
        {
          "name": "stdout",
          "output_type": "stream",
          "text": [
            "Proportion of complier: 0.5418994413407822\n",
            "Proportion of always taker: 0.13966480446927373\n",
            "Proportion of never taker: 0.31843575418994413\n",
            "Proportion of defier: 0\n"
          ]
        }
      ],
      "source": [
        "\n",
        "prop_never_taker = df[(df['Z'] ==1) & (df['T']==0)].shape[0]/df[df['Z'] ==1].shape[0]\n",
        "prop_always_taker = df[(df['Z']==0) & (df['T']==1)].shape[0]/df[df['Z'] ==0].shape[0]\n",
        "prop_complier = 1- prop_never_taker - prop_always_taker\n",
        "\n",
        "print(f'Proportion of complier: {prop_complier}')\n",
        "print(f'Proportion of always taker: {prop_always_taker}')\n",
        "print(f'Proportion of never taker: {prop_never_taker}')\n",
        "print(f'Proportion of defier: {0}')"
      ]
    },
    {
      "cell_type": "markdown",
      "metadata": {
        "id": "kOZMLwldNgON"
      },
      "source": [
        "## Question5\n",
        "Under assumptions from question3, estimate the local ATE. In which group defined in question2 is this treatment effect estimated? You can use the python function `IV2SLS` to provide the standard error and a 95% confidence interval for your estimate."
      ]
    },
    {
      "cell_type": "code",
      "execution_count": 10,
      "metadata": {
        "colab": {
          "base_uri": "https://localhost:8080/"
        },
        "id": "eFIrP7rMN-AX",
        "outputId": "e67407e4-f5b8-499d-bf5e-3d641ab71544"
      },
      "outputs": [
        {
          "name": "stdout",
          "output_type": "stream",
          "text": [
            "Looking in indexes: https://pypi.org/simple, https://us-python.pkg.dev/colab-wheels/public/simple/\n",
            "Collecting linearmodels\n",
            "  Downloading linearmodels-4.27-cp38-cp38-manylinux_2_17_x86_64.manylinux2014_x86_64.whl (1.5 MB)\n",
            "\u001b[K     |████████████████████████████████| 1.5 MB 8.7 MB/s \n",
            "\u001b[?25hRequirement already satisfied: numpy>=1.16 in /usr/local/lib/python3.8/dist-packages (from linearmodels) (1.21.6)\n",
            "Collecting mypy-extensions>=0.4\n",
            "  Downloading mypy_extensions-0.4.3-py2.py3-none-any.whl (4.5 kB)\n",
            "Requirement already satisfied: statsmodels>=0.11 in /usr/local/lib/python3.8/dist-packages (from linearmodels) (0.12.2)\n",
            "Collecting formulaic~=0.3.2\n",
            "  Downloading formulaic-0.3.4-py3-none-any.whl (68 kB)\n",
            "\u001b[K     |████████████████████████████████| 68 kB 4.9 MB/s \n",
            "\u001b[?25hRequirement already satisfied: pandas>=0.24 in /usr/local/lib/python3.8/dist-packages (from linearmodels) (1.3.5)\n",
            "Collecting pyhdfe>=0.1\n",
            "  Downloading pyhdfe-0.1.1-py3-none-any.whl (18 kB)\n",
            "Collecting property-cached>=1.6.3\n",
            "  Downloading property_cached-1.6.4-py2.py3-none-any.whl (7.8 kB)\n",
            "Collecting setuptools-scm<7.0.0,>=6.4.2\n",
            "  Downloading setuptools_scm-6.4.2-py3-none-any.whl (37 kB)\n",
            "Requirement already satisfied: Cython>=0.29.21 in /usr/local/lib/python3.8/dist-packages (from linearmodels) (0.29.32)\n",
            "Requirement already satisfied: scipy>=1.2 in /usr/local/lib/python3.8/dist-packages (from linearmodels) (1.7.3)\n",
            "Collecting interface-meta<2.0.0,>=1.2.0\n",
            "  Downloading interface_meta-1.3.0-py3-none-any.whl (14 kB)\n",
            "Requirement already satisfied: wrapt>=1.0 in /usr/local/lib/python3.8/dist-packages (from formulaic~=0.3.2->linearmodels) (1.14.1)\n",
            "Requirement already satisfied: astor>=0.8 in /usr/local/lib/python3.8/dist-packages (from formulaic~=0.3.2->linearmodels) (0.8.1)\n",
            "Requirement already satisfied: python-dateutil>=2.7.3 in /usr/local/lib/python3.8/dist-packages (from pandas>=0.24->linearmodels) (2.8.2)\n",
            "Requirement already satisfied: pytz>=2017.3 in /usr/local/lib/python3.8/dist-packages (from pandas>=0.24->linearmodels) (2022.6)\n",
            "Requirement already satisfied: six>=1.5 in /usr/local/lib/python3.8/dist-packages (from python-dateutil>=2.7.3->pandas>=0.24->linearmodels) (1.15.0)\n",
            "Requirement already satisfied: tomli>=1.0.0 in /usr/local/lib/python3.8/dist-packages (from setuptools-scm<7.0.0,>=6.4.2->linearmodels) (2.0.1)\n",
            "Requirement already satisfied: setuptools in /usr/local/lib/python3.8/dist-packages (from setuptools-scm<7.0.0,>=6.4.2->linearmodels) (57.4.0)\n",
            "Requirement already satisfied: packaging>=20.0 in /usr/local/lib/python3.8/dist-packages (from setuptools-scm<7.0.0,>=6.4.2->linearmodels) (21.3)\n",
            "Requirement already satisfied: pyparsing!=3.0.5,>=2.0.2 in /usr/local/lib/python3.8/dist-packages (from packaging>=20.0->setuptools-scm<7.0.0,>=6.4.2->linearmodels) (3.0.9)\n",
            "Requirement already satisfied: patsy>=0.5 in /usr/local/lib/python3.8/dist-packages (from statsmodels>=0.11->linearmodels) (0.5.3)\n",
            "Installing collected packages: interface-meta, setuptools-scm, pyhdfe, property-cached, mypy-extensions, formulaic, linearmodels\n",
            "Successfully installed formulaic-0.3.4 interface-meta-1.3.0 linearmodels-4.27 mypy-extensions-0.4.3 property-cached-1.6.4 pyhdfe-0.1.1 setuptools-scm-6.4.2\n"
          ]
        }
      ],
      "source": [
        "! pip install linearmodels\n",
        "import linearmodels as lm\n",
        "from linearmodels.iv import IV2SLS"
      ]
    },
    {
      "cell_type": "markdown",
      "metadata": {
        "id": "L9vMLClbPbXH"
      },
      "source": [
        "The treatment effect estimates the complier group.\n",
        "\n",
        "\n",
        "the LATE equals the ITT effect divided by the share of compliers in the population.\n",
        "$$ITT = E[Y|Z=1] - E[Y|Z=0]$$ \n",
        "$$\\text{LATE} = \\frac{ITT}{\\text{proportion(complier)}} = 0.3505154639175257$$\n"
      ]
    },
    {
      "cell_type": "code",
      "execution_count": 18,
      "metadata": {
        "colab": {
          "base_uri": "https://localhost:8080/"
        },
        "id": "8zp8X2kuQWZ8",
        "outputId": "8cedbf48-e732-41eb-baf1-4132faca1343"
      },
      "outputs": [
        {
          "data": {
            "text/plain": [
              "0.3505154639175257"
            ]
          },
          "execution_count": 18,
          "metadata": {},
          "output_type": "execute_result"
        }
      ],
      "source": [
        "no_defiers = df.copy()\n",
        "no_defiers = no_defiers.assign(const = 1)\n",
        "\n",
        "offered = no_defiers[no_defiers['Z']==1]\n",
        "not_offered = no_defiers[no_defiers['Z']==0]\n",
        "\n",
        "late = (np.mean(offered['Y']) - np.mean(not_offered['Y']))/prop_complier\n",
        "late"
      ]
    },
    {
      "cell_type": "code",
      "execution_count": 19,
      "metadata": {
        "colab": {
          "base_uri": "https://localhost:8080/",
          "height": 352
        },
        "id": "lSC24RfXLrqZ",
        "outputId": "d20bcf57-b685-4319-e582-c3e596f10d6a"
      },
      "outputs": [
        {
          "data": {
            "text/html": [
              "<table class=\"simpletable\">\n",
              "<caption>IV-2SLS Estimation Summary</caption>\n",
              "<tr>\n",
              "  <th>Dep. Variable:</th>            <td>Y</td>        <th>  R-squared:         </th> <td>0.1403</td> \n",
              "</tr>\n",
              "<tr>\n",
              "  <th>Estimator:</th>             <td>IV-2SLS</td>     <th>  Adj. R-squared:    </th> <td>0.1387</td> \n",
              "</tr>\n",
              "<tr>\n",
              "  <th>No. Observations:</th>        <td>537</td>       <th>  F-statistic:       </th> <td>20.070</td> \n",
              "</tr>\n",
              "<tr>\n",
              "  <th>Date:</th>             <td>Sun, Dec 11 2022</td> <th>  P-value (F-stat)   </th> <td>0.0000</td> \n",
              "</tr>\n",
              "<tr>\n",
              "  <th>Time:</th>                 <td>22:45:17</td>     <th>  Distribution:      </th> <td>chi2(1)</td>\n",
              "</tr>\n",
              "<tr>\n",
              "  <th>Cov. Estimator:</th>      <td>unadjusted</td>    <th>                     </th>    <td></td>    \n",
              "</tr>\n",
              "<tr>\n",
              "  <th></th>                          <td></td>         <th>                     </th>    <td></td>    \n",
              "</tr>\n",
              "</table>\n",
              "<table class=\"simpletable\">\n",
              "<caption>Parameter Estimates</caption>\n",
              "<tr>\n",
              "    <td></td>    <th>Parameter</th> <th>Std. Err.</th> <th>T-stat</th> <th>P-value</th> <th>Lower CI</th> <th>Upper CI</th>\n",
              "</tr>\n",
              "<tr>\n",
              "  <th>const</th>  <td>0.4091</td>    <td>0.0321</td>   <td>12.764</td> <td>0.0000</td>   <td>0.3463</td>   <td>0.4720</td> \n",
              "</tr>\n",
              "<tr>\n",
              "  <th>T</th>      <td>0.3505</td>    <td>0.0782</td>   <td>4.4800</td> <td>0.0000</td>   <td>0.1972</td>   <td>0.5039</td> \n",
              "</tr>\n",
              "</table><br/><br/>Endogenous: T<br/>Instruments: Z<br/>Unadjusted Covariance (Homoskedastic)<br/>Debiased: False"
            ],
            "text/plain": [
              "<class 'linearmodels.compat.statsmodels.Summary'>\n",
              "\"\"\"\n",
              "                          IV-2SLS Estimation Summary                          \n",
              "==============================================================================\n",
              "Dep. Variable:                      Y   R-squared:                      0.1403\n",
              "Estimator:                    IV-2SLS   Adj. R-squared:                 0.1387\n",
              "No. Observations:                 537   F-statistic:                    20.070\n",
              "Date:                Sun, Dec 11 2022   P-value (F-stat)                0.0000\n",
              "Time:                        22:45:17   Distribution:                  chi2(1)\n",
              "Cov. Estimator:            unadjusted                                         \n",
              "                                                                              \n",
              "                             Parameter Estimates                              \n",
              "==============================================================================\n",
              "            Parameter  Std. Err.     T-stat    P-value    Lower CI    Upper CI\n",
              "------------------------------------------------------------------------------\n",
              "const          0.4091     0.0321     12.764     0.0000      0.3463      0.4720\n",
              "T              0.3505     0.0782     4.4800     0.0000      0.1972      0.5039\n",
              "==============================================================================\n",
              "\n",
              "Endogenous: T\n",
              "Instruments: Z\n",
              "Unadjusted Covariance (Homoskedastic)\n",
              "Debiased: False\n",
              "\"\"\""
            ]
          },
          "execution_count": 19,
          "metadata": {},
          "output_type": "execute_result"
        }
      ],
      "source": [
        "late_result = IV2SLS(dependent = no_defiers['Y'], #outcome\n",
        "        endog = no_defiers['T'], #treatment\n",
        "        exog = no_defiers['const'], #we just add a constant as covariate\n",
        "        instruments = no_defiers['Z'] #Instrument\n",
        "        ).fit(cov_type = \"unadjusted\")\n",
        "late_result.summary"
      ]
    },
    {
      "cell_type": "code",
      "execution_count": 20,
      "metadata": {
        "colab": {
          "base_uri": "https://localhost:8080/"
        },
        "id": "n9xXZQidO_J0",
        "outputId": "919636b5-8b2a-4357-8b25-4c2cc077e9b9"
      },
      "outputs": [
        {
          "name": "stdout",
          "output_type": "stream",
          "text": [
            "The late estimate of physiotherapy treatment is: 0.3505154639175257\n",
            "The standard error of physiotherapy treatment is: 0.07824086186241694\n",
            "The 95% confidence interval is: [0.19716619254781503, 0.5038647352872363]\n"
          ]
        }
      ],
      "source": [
        "\n",
        "std = late_result.std_errors[1]\n",
        "late_ci = [late - scalar * std , late + scalar * std]\n",
        "print(f'The late estimate of physiotherapy treatment is: {late}')\n",
        "print(f'The standard error of physiotherapy treatment is: {std}')\n",
        "print(f'The 95% confidence interval is: {late_ci}')\n"
      ]
    },
    {
      "cell_type": "markdown",
      "metadata": {
        "id": "Z-DTrfv_R37R"
      },
      "source": [
        "## Question6\n",
        "Discuss briefly (i) the clinical and (ii) the health policy implications of the difference between your estimates in question 5 vs. question1. "
      ]
    },
    {
      "cell_type": "markdown",
      "metadata": {
        "id": "0-BR1qDoSRiy"
      },
      "source": [
        "**result of Q1**: \n",
        "\n",
        "- Effect of receiving physiotherapy: 0.4047308059891685\n",
        "- The 95% confidence interval is: [0.3264505203039836, 0.4830110916743534]\n",
        "\n",
        "**result of Q5**:\n",
        "\n",
        "- The late estimate of physiotherapy treatment is: 0.35051546391752675\n",
        "- The 95% confidence interval is: [0.1971661925478161, 0.5038647352872374]\n"
      ]
    },
    {
      "cell_type": "markdown",
      "metadata": {
        "id": "YA5YbneqTKor"
      },
      "source": [
        "The effect estimate in question 1 is 0.05 higher than the effect estimate in question 5, and the estimator in question 5 has a wider confidence interval compared with the estmate obtained in question 1. \n",
        "\n",
        "- Clinical implications: The use of estimator in question 5 would lower people's conviction that the physiotherapy treatment is beneficial in terms of suigical recovery. Fewer patients would become convinced to follow the treatment compared to the case when using estimator in question 1. If the physiotherapy is trully beneficial, some patients, not persuaded by the effect of  physiotherapy treatment, would not enjoy those benefits. \n",
        "\n",
        "- Health policy implications:\n",
        "If the physiotherapy is trully beneficial and health institutions would like to promote it to the public, using the estimate obtained in question 1 would better achieve this purpose since it concludes with a more significant effect on surgery recovery with higher confidence. This result from question1 would encourage more patients to choose physiotherapy, making the promoting policy easier to implement. "
      ]
    },
    {
      "cell_type": "markdown",
      "metadata": {
        "id": "6Brjg5BwXR5U"
      },
      "source": [
        "## Exercise2: Regression Discontinuity Design\n",
        "\n",
        "In this problem you will be analyzing a dataset from a 2011 paper by Carpenter and Dobkin. \n",
        "This paper examines evidence linking the legal alcohol drinking age in the US(21) to increased likelihood of accidents, hospitalization, and health hazards in general. The main identification strategy employed by the authors is a sharp Regression Discontinuity Design(RDD), where age is the running variable, and 21 is the cutoff. \n",
        "The dataset contains 80 observations, where each unit is an age group, and values are collected over 4 US states. \n",
        "The dataset is `ER.csv` and it contains five variables: \n",
        "- age – The age of the unit, where the decimal indicates month of the year\n",
        "- all – The total number of ER admissions\n",
        "- injury – The total number of ER admissions due to injury\n",
        "- illness – The total number of ER admissions due to viral illness\n",
        "- alcohol – An adjusted index of how many ER admissions were linked to alcohol consumption\n",
        "\n",
        "\n"
      ]
    },
    {
      "cell_type": "markdown",
      "metadata": {
        "id": "TqNDbuykYnJb"
      },
      "source": [
        "## Question1:\n",
        "Preprocess the data by creating a centralized version of the running variable, and a binary variable indicating the treatment."
      ]
    },
    {
      "cell_type": "code",
      "execution_count": 6,
      "metadata": {
        "colab": {
          "base_uri": "https://localhost:8080/"
        },
        "id": "xmrutUwQSEew",
        "outputId": "14f42caf-3b5c-49d3-9117-c41162cf26d0"
      },
      "outputs": [
        {
          "name": "stdout",
          "output_type": "stream",
          "text": [
            "Drive already mounted at /content/drive; to attempt to forcibly remount, call drive.mount(\"/content/drive\", force_remount=True).\n"
          ]
        }
      ],
      "source": [
        "import pandas as pd\n",
        "import numpy as np\n",
        "from google.colab import drive\n",
        "drive.mount('/content/drive')\n",
        "import warnings\n",
        "warnings.filterwarnings(\"ignore\")\n",
        "import statsmodels.formula.api as smf\n",
        "\n",
        "file_path = 'drive/MyDrive/Colab Notebooks/causal inference/final/ER.csv'\n",
        "er = pd.read_csv(file_path)"
      ]
    },
    {
      "cell_type": "code",
      "execution_count": 20,
      "metadata": {
        "colab": {
          "base_uri": "https://localhost:8080/",
          "height": 424
        },
        "id": "aWPpFYD7cIbp",
        "outputId": "d89e3db8-dbff-42a8-f48c-c54a66b2a4a1"
      },
      "outputs": [
        {
          "data": {
            "text/html": [
              "\n",
              "  <div id=\"df-2e7c999f-8e10-4ff9-9abe-655c4102451c\">\n",
              "    <div class=\"colab-df-container\">\n",
              "      <div>\n",
              "<style scoped>\n",
              "    .dataframe tbody tr th:only-of-type {\n",
              "        vertical-align: middle;\n",
              "    }\n",
              "\n",
              "    .dataframe tbody tr th {\n",
              "        vertical-align: top;\n",
              "    }\n",
              "\n",
              "    .dataframe thead th {\n",
              "        text-align: right;\n",
              "    }\n",
              "</style>\n",
              "<table border=\"1\" class=\"dataframe\">\n",
              "  <thead>\n",
              "    <tr style=\"text-align: right;\">\n",
              "      <th></th>\n",
              "      <th>alcohol</th>\n",
              "      <th>all</th>\n",
              "      <th>injury</th>\n",
              "      <th>illness</th>\n",
              "      <th>age</th>\n",
              "      <th>age_binary</th>\n",
              "      <th>original_age</th>\n",
              "    </tr>\n",
              "  </thead>\n",
              "  <tbody>\n",
              "    <tr>\n",
              "      <th>0</th>\n",
              "      <td>42.804927</td>\n",
              "      <td>3496.384281</td>\n",
              "      <td>1321.324173</td>\n",
              "      <td>2134.895744</td>\n",
              "      <td>-3.333333</td>\n",
              "      <td>0</td>\n",
              "      <td>17.666667</td>\n",
              "    </tr>\n",
              "    <tr>\n",
              "      <th>1</th>\n",
              "      <td>43.152370</td>\n",
              "      <td>3456.984291</td>\n",
              "      <td>1293.737231</td>\n",
              "      <td>2122.665765</td>\n",
              "      <td>-3.250000</td>\n",
              "      <td>0</td>\n",
              "      <td>17.750000</td>\n",
              "    </tr>\n",
              "    <tr>\n",
              "      <th>2</th>\n",
              "      <td>42.665950</td>\n",
              "      <td>3466.017798</td>\n",
              "      <td>1284.842701</td>\n",
              "      <td>2140.871757</td>\n",
              "      <td>-3.166667</td>\n",
              "      <td>0</td>\n",
              "      <td>17.833333</td>\n",
              "    </tr>\n",
              "    <tr>\n",
              "      <th>3</th>\n",
              "      <td>47.599635</td>\n",
              "      <td>3492.631901</td>\n",
              "      <td>1268.860342</td>\n",
              "      <td>2180.132769</td>\n",
              "      <td>-3.083333</td>\n",
              "      <td>0</td>\n",
              "      <td>17.916667</td>\n",
              "    </tr>\n",
              "    <tr>\n",
              "      <th>4</th>\n",
              "      <td>55.729792</td>\n",
              "      <td>3602.284782</td>\n",
              "      <td>1257.047294</td>\n",
              "      <td>2293.746497</td>\n",
              "      <td>-3.000000</td>\n",
              "      <td>0</td>\n",
              "      <td>18.000000</td>\n",
              "    </tr>\n",
              "    <tr>\n",
              "      <th>...</th>\n",
              "      <td>...</td>\n",
              "      <td>...</td>\n",
              "      <td>...</td>\n",
              "      <td>...</td>\n",
              "      <td>...</td>\n",
              "      <td>...</td>\n",
              "      <td>...</td>\n",
              "    </tr>\n",
              "    <tr>\n",
              "      <th>75</th>\n",
              "      <td>61.497339</td>\n",
              "      <td>4217.049703</td>\n",
              "      <td>1102.852272</td>\n",
              "      <td>3057.633777</td>\n",
              "      <td>2.916667</td>\n",
              "      <td>1</td>\n",
              "      <td>23.916667</td>\n",
              "    </tr>\n",
              "    <tr>\n",
              "      <th>76</th>\n",
              "      <td>70.322380</td>\n",
              "      <td>4268.679672</td>\n",
              "      <td>1121.058264</td>\n",
              "      <td>3082.788621</td>\n",
              "      <td>3.000000</td>\n",
              "      <td>1</td>\n",
              "      <td>24.000000</td>\n",
              "    </tr>\n",
              "    <tr>\n",
              "      <th>77</th>\n",
              "      <td>62.956597</td>\n",
              "      <td>4235.255695</td>\n",
              "      <td>1096.667794</td>\n",
              "      <td>3079.939591</td>\n",
              "      <td>3.083333</td>\n",
              "      <td>1</td>\n",
              "      <td>24.083333</td>\n",
              "    </tr>\n",
              "    <tr>\n",
              "      <th>78</th>\n",
              "      <td>61.636316</td>\n",
              "      <td>4236.020068</td>\n",
              "      <td>1091.178201</td>\n",
              "      <td>3088.208725</td>\n",
              "      <td>3.166667</td>\n",
              "      <td>1</td>\n",
              "      <td>24.166667</td>\n",
              "    </tr>\n",
              "    <tr>\n",
              "      <th>79</th>\n",
              "      <td>60.385522</td>\n",
              "      <td>4220.593617</td>\n",
              "      <td>1078.322825</td>\n",
              "      <td>3086.679978</td>\n",
              "      <td>3.250000</td>\n",
              "      <td>1</td>\n",
              "      <td>24.250000</td>\n",
              "    </tr>\n",
              "  </tbody>\n",
              "</table>\n",
              "<p>80 rows × 7 columns</p>\n",
              "</div>\n",
              "      <button class=\"colab-df-convert\" onclick=\"convertToInteractive('df-2e7c999f-8e10-4ff9-9abe-655c4102451c')\"\n",
              "              title=\"Convert this dataframe to an interactive table.\"\n",
              "              style=\"display:none;\">\n",
              "        \n",
              "  <svg xmlns=\"http://www.w3.org/2000/svg\" height=\"24px\"viewBox=\"0 0 24 24\"\n",
              "       width=\"24px\">\n",
              "    <path d=\"M0 0h24v24H0V0z\" fill=\"none\"/>\n",
              "    <path d=\"M18.56 5.44l.94 2.06.94-2.06 2.06-.94-2.06-.94-.94-2.06-.94 2.06-2.06.94zm-11 1L8.5 8.5l.94-2.06 2.06-.94-2.06-.94L8.5 2.5l-.94 2.06-2.06.94zm10 10l.94 2.06.94-2.06 2.06-.94-2.06-.94-.94-2.06-.94 2.06-2.06.94z\"/><path d=\"M17.41 7.96l-1.37-1.37c-.4-.4-.92-.59-1.43-.59-.52 0-1.04.2-1.43.59L10.3 9.45l-7.72 7.72c-.78.78-.78 2.05 0 2.83L4 21.41c.39.39.9.59 1.41.59.51 0 1.02-.2 1.41-.59l7.78-7.78 2.81-2.81c.8-.78.8-2.07 0-2.86zM5.41 20L4 18.59l7.72-7.72 1.47 1.35L5.41 20z\"/>\n",
              "  </svg>\n",
              "      </button>\n",
              "      \n",
              "  <style>\n",
              "    .colab-df-container {\n",
              "      display:flex;\n",
              "      flex-wrap:wrap;\n",
              "      gap: 12px;\n",
              "    }\n",
              "\n",
              "    .colab-df-convert {\n",
              "      background-color: #E8F0FE;\n",
              "      border: none;\n",
              "      border-radius: 50%;\n",
              "      cursor: pointer;\n",
              "      display: none;\n",
              "      fill: #1967D2;\n",
              "      height: 32px;\n",
              "      padding: 0 0 0 0;\n",
              "      width: 32px;\n",
              "    }\n",
              "\n",
              "    .colab-df-convert:hover {\n",
              "      background-color: #E2EBFA;\n",
              "      box-shadow: 0px 1px 2px rgba(60, 64, 67, 0.3), 0px 1px 3px 1px rgba(60, 64, 67, 0.15);\n",
              "      fill: #174EA6;\n",
              "    }\n",
              "\n",
              "    [theme=dark] .colab-df-convert {\n",
              "      background-color: #3B4455;\n",
              "      fill: #D2E3FC;\n",
              "    }\n",
              "\n",
              "    [theme=dark] .colab-df-convert:hover {\n",
              "      background-color: #434B5C;\n",
              "      box-shadow: 0px 1px 3px 1px rgba(0, 0, 0, 0.15);\n",
              "      filter: drop-shadow(0px 1px 2px rgba(0, 0, 0, 0.3));\n",
              "      fill: #FFFFFF;\n",
              "    }\n",
              "  </style>\n",
              "\n",
              "      <script>\n",
              "        const buttonEl =\n",
              "          document.querySelector('#df-2e7c999f-8e10-4ff9-9abe-655c4102451c button.colab-df-convert');\n",
              "        buttonEl.style.display =\n",
              "          google.colab.kernel.accessAllowed ? 'block' : 'none';\n",
              "\n",
              "        async function convertToInteractive(key) {\n",
              "          const element = document.querySelector('#df-2e7c999f-8e10-4ff9-9abe-655c4102451c');\n",
              "          const dataTable =\n",
              "            await google.colab.kernel.invokeFunction('convertToInteractive',\n",
              "                                                     [key], {});\n",
              "          if (!dataTable) return;\n",
              "\n",
              "          const docLinkHtml = 'Like what you see? Visit the ' +\n",
              "            '<a target=\"_blank\" href=https://colab.research.google.com/notebooks/data_table.ipynb>data table notebook</a>'\n",
              "            + ' to learn more about interactive tables.';\n",
              "          element.innerHTML = '';\n",
              "          dataTable['output_type'] = 'display_data';\n",
              "          await google.colab.output.renderOutput(dataTable, element);\n",
              "          const docLink = document.createElement('div');\n",
              "          docLink.innerHTML = docLinkHtml;\n",
              "          element.appendChild(docLink);\n",
              "        }\n",
              "      </script>\n",
              "    </div>\n",
              "  </div>\n",
              "  "
            ],
            "text/plain": [
              "      alcohol          all       injury      illness       age  age_binary  \\\n",
              "0   42.804927  3496.384281  1321.324173  2134.895744 -3.333333           0   \n",
              "1   43.152370  3456.984291  1293.737231  2122.665765 -3.250000           0   \n",
              "2   42.665950  3466.017798  1284.842701  2140.871757 -3.166667           0   \n",
              "3   47.599635  3492.631901  1268.860342  2180.132769 -3.083333           0   \n",
              "4   55.729792  3602.284782  1257.047294  2293.746497 -3.000000           0   \n",
              "..        ...          ...          ...          ...       ...         ...   \n",
              "75  61.497339  4217.049703  1102.852272  3057.633777  2.916667           1   \n",
              "76  70.322380  4268.679672  1121.058264  3082.788621  3.000000           1   \n",
              "77  62.956597  4235.255695  1096.667794  3079.939591  3.083333           1   \n",
              "78  61.636316  4236.020068  1091.178201  3088.208725  3.166667           1   \n",
              "79  60.385522  4220.593617  1078.322825  3086.679978  3.250000           1   \n",
              "\n",
              "    original_age  \n",
              "0      17.666667  \n",
              "1      17.750000  \n",
              "2      17.833333  \n",
              "3      17.916667  \n",
              "4      18.000000  \n",
              "..           ...  \n",
              "75     23.916667  \n",
              "76     24.000000  \n",
              "77     24.083333  \n",
              "78     24.166667  \n",
              "79     24.250000  \n",
              "\n",
              "[80 rows x 7 columns]"
            ]
          },
          "execution_count": 20,
          "metadata": {},
          "output_type": "execute_result"
        }
      ],
      "source": [
        "running_variables = ['age']\n",
        "outcomes = ['all', 'injury', 'illness', 'alcohol']\n",
        "processed = er.copy()\n",
        "processed['age'] = er['age'] - 21\n",
        "processed['age_binary'] = np.where(processed['age'] >= 0, 1, 0)\n",
        "processed['original_age'] = er['age']\n",
        "processed[outcomes] = er[outcomes]\n",
        "processed"
      ]
    },
    {
      "cell_type": "markdown",
      "metadata": {
        "id": "6gKXl-2mfQdL"
      },
      "source": [
        "## Question2\n",
        "Estimate the effect of being legally able to purchase alcohol (age $\\geq 21$) on the `all`, `injury`, and `alcohol` variables using an RDD with bandwidth = 1. For each of the three outcomes report point estimates and 95% confidence intervals. Repeat the analysis for bandwidth = 0.5 years, and bandwidth = 2 years. Discuss and interpret your results. Which outcome variable seems to be associated with the largest effect? Does bandwidth selection influence results? You can use the model `wls` from package `statsmodels.formula.api`, as in the recitation. "
      ]
    },
    {
      "cell_type": "code",
      "execution_count": 21,
      "metadata": {
        "colab": {
          "base_uri": "https://localhost:8080/",
          "height": 161
        },
        "id": "zn-65Ik0mi8W",
        "outputId": "559778cf-c381-462b-a88e-5848bec7ec79"
      },
      "outputs": [
        {
          "name": "stdout",
          "output_type": "stream",
          "text": [
            "---------bandwidth = 1 year(s)----------------\n"
          ]
        },
        {
          "data": {
            "text/html": [
              "\n",
              "  <div id=\"df-6dd053cd-fe4a-43da-b9e2-40badd4a8693\">\n",
              "    <div class=\"colab-df-container\">\n",
              "      <div>\n",
              "<style scoped>\n",
              "    .dataframe tbody tr th:only-of-type {\n",
              "        vertical-align: middle;\n",
              "    }\n",
              "\n",
              "    .dataframe tbody tr th {\n",
              "        vertical-align: top;\n",
              "    }\n",
              "\n",
              "    .dataframe thead th {\n",
              "        text-align: right;\n",
              "    }\n",
              "</style>\n",
              "<table border=\"1\" class=\"dataframe\">\n",
              "  <thead>\n",
              "    <tr style=\"text-align: right;\">\n",
              "      <th></th>\n",
              "      <th>late</th>\n",
              "      <th>CI</th>\n",
              "    </tr>\n",
              "  </thead>\n",
              "  <tbody>\n",
              "    <tr>\n",
              "      <th>all</th>\n",
              "      <td>79.069661</td>\n",
              "      <td>[46.06574673309291, 112.07357576047326]</td>\n",
              "    </tr>\n",
              "    <tr>\n",
              "      <th>injury</th>\n",
              "      <td>25.494014</td>\n",
              "      <td>[8.495797480276629, 42.49222997893843]</td>\n",
              "    </tr>\n",
              "    <tr>\n",
              "      <th>alcohol</th>\n",
              "      <td>26.637265</td>\n",
              "      <td>[8.738914590906603, 44.53561601415313]</td>\n",
              "    </tr>\n",
              "  </tbody>\n",
              "</table>\n",
              "</div>\n",
              "      <button class=\"colab-df-convert\" onclick=\"convertToInteractive('df-6dd053cd-fe4a-43da-b9e2-40badd4a8693')\"\n",
              "              title=\"Convert this dataframe to an interactive table.\"\n",
              "              style=\"display:none;\">\n",
              "        \n",
              "  <svg xmlns=\"http://www.w3.org/2000/svg\" height=\"24px\"viewBox=\"0 0 24 24\"\n",
              "       width=\"24px\">\n",
              "    <path d=\"M0 0h24v24H0V0z\" fill=\"none\"/>\n",
              "    <path d=\"M18.56 5.44l.94 2.06.94-2.06 2.06-.94-2.06-.94-.94-2.06-.94 2.06-2.06.94zm-11 1L8.5 8.5l.94-2.06 2.06-.94-2.06-.94L8.5 2.5l-.94 2.06-2.06.94zm10 10l.94 2.06.94-2.06 2.06-.94-2.06-.94-.94-2.06-.94 2.06-2.06.94z\"/><path d=\"M17.41 7.96l-1.37-1.37c-.4-.4-.92-.59-1.43-.59-.52 0-1.04.2-1.43.59L10.3 9.45l-7.72 7.72c-.78.78-.78 2.05 0 2.83L4 21.41c.39.39.9.59 1.41.59.51 0 1.02-.2 1.41-.59l7.78-7.78 2.81-2.81c.8-.78.8-2.07 0-2.86zM5.41 20L4 18.59l7.72-7.72 1.47 1.35L5.41 20z\"/>\n",
              "  </svg>\n",
              "      </button>\n",
              "      \n",
              "  <style>\n",
              "    .colab-df-container {\n",
              "      display:flex;\n",
              "      flex-wrap:wrap;\n",
              "      gap: 12px;\n",
              "    }\n",
              "\n",
              "    .colab-df-convert {\n",
              "      background-color: #E8F0FE;\n",
              "      border: none;\n",
              "      border-radius: 50%;\n",
              "      cursor: pointer;\n",
              "      display: none;\n",
              "      fill: #1967D2;\n",
              "      height: 32px;\n",
              "      padding: 0 0 0 0;\n",
              "      width: 32px;\n",
              "    }\n",
              "\n",
              "    .colab-df-convert:hover {\n",
              "      background-color: #E2EBFA;\n",
              "      box-shadow: 0px 1px 2px rgba(60, 64, 67, 0.3), 0px 1px 3px 1px rgba(60, 64, 67, 0.15);\n",
              "      fill: #174EA6;\n",
              "    }\n",
              "\n",
              "    [theme=dark] .colab-df-convert {\n",
              "      background-color: #3B4455;\n",
              "      fill: #D2E3FC;\n",
              "    }\n",
              "\n",
              "    [theme=dark] .colab-df-convert:hover {\n",
              "      background-color: #434B5C;\n",
              "      box-shadow: 0px 1px 3px 1px rgba(0, 0, 0, 0.15);\n",
              "      filter: drop-shadow(0px 1px 2px rgba(0, 0, 0, 0.3));\n",
              "      fill: #FFFFFF;\n",
              "    }\n",
              "  </style>\n",
              "\n",
              "      <script>\n",
              "        const buttonEl =\n",
              "          document.querySelector('#df-6dd053cd-fe4a-43da-b9e2-40badd4a8693 button.colab-df-convert');\n",
              "        buttonEl.style.display =\n",
              "          google.colab.kernel.accessAllowed ? 'block' : 'none';\n",
              "\n",
              "        async function convertToInteractive(key) {\n",
              "          const element = document.querySelector('#df-6dd053cd-fe4a-43da-b9e2-40badd4a8693');\n",
              "          const dataTable =\n",
              "            await google.colab.kernel.invokeFunction('convertToInteractive',\n",
              "                                                     [key], {});\n",
              "          if (!dataTable) return;\n",
              "\n",
              "          const docLinkHtml = 'Like what you see? Visit the ' +\n",
              "            '<a target=\"_blank\" href=https://colab.research.google.com/notebooks/data_table.ipynb>data table notebook</a>'\n",
              "            + ' to learn more about interactive tables.';\n",
              "          element.innerHTML = '';\n",
              "          dataTable['output_type'] = 'display_data';\n",
              "          await google.colab.output.renderOutput(dataTable, element);\n",
              "          const docLink = document.createElement('div');\n",
              "          docLink.innerHTML = docLinkHtml;\n",
              "          element.appendChild(docLink);\n",
              "        }\n",
              "      </script>\n",
              "    </div>\n",
              "  </div>\n",
              "  "
            ],
            "text/plain": [
              "              late                                       CI\n",
              "all      79.069661  [46.06574673309291, 112.07357576047326]\n",
              "injury   25.494014   [8.495797480276629, 42.49222997893843]\n",
              "alcohol  26.637265   [8.738914590906603, 44.53561601415313]"
            ]
          },
          "execution_count": 21,
          "metadata": {},
          "output_type": "execute_result"
        }
      ],
      "source": [
        "import matplotlib.pyplot as plt\n",
        "\n",
        "def local_linear_estimator(df, bandwidth, variables, plot = False):\n",
        "  print(f'---------bandwidth = {bandwidth} year(s)----------------')\n",
        "  df_close = df[abs(df['age']) <= 0.5 * bandwidth]\n",
        "  res = {}\n",
        "  for v in variables:\n",
        "    model = smf.wls(f\"{v}~age_binary\", df_close)\n",
        "    model_fit = model.fit()\n",
        "\n",
        "    if(plot):\n",
        "      model1 = smf.wls(f\"{v}~age\", df_close[df_close['age_binary']==0])\n",
        "      model_fit1 = model1.fit()\n",
        "      model2 = smf.wls(f\"{v}~age\", df_close[df_close['age_binary']==1])\n",
        "      model_fit2 = model2.fit()\n",
        "\n",
        "      plt.scatter(x = df['age'], y= df[v], color = \"red\", s =10)\n",
        "      x1 = df[df['age_binary'] ==0]\n",
        "      x2 = df[df['age_binary'] ==1]\n",
        "      y1= model_fit1.predict(x1)\n",
        "      y2= model_fit2.predict(x2)\n",
        "\n",
        "      plt.plot(x1.age, y1, linewidth = 5)\n",
        "      plt.plot(x2.age, y2, linewidth = 5)\n",
        "      plt.vlines(x = -0.5 * bandwidth, ymin = min(df[v])-1, ymax = max(df[v])+1, color = \"b\", linestyles = 'dashed')\n",
        "      plt.vlines(x = 0.5* bandwidth, ymin = min(df[v])-1, ymax = max(df[v])+1, color = \"b\", linestyles = 'dashed')\n",
        "      plt.title(f'RDD of {v}')\n",
        "      plt.xlabel('age')\n",
        "      plt.ylabel(v)\n",
        "      plt.show()\n",
        "\n",
        "\n",
        "    coeff = model_fit.params['age_binary']\n",
        "    ci_low = model_fit.conf_int()[0]['age_binary']\n",
        "    ci_high = model_fit.conf_int()[1]['age_binary']\n",
        "    ci = [ci_low, ci_high]\n",
        "    res[v] = [coeff, ci]\n",
        "  ret = pd.DataFrame.from_dict(res).transpose()\n",
        "  ret.rename(columns = {0:'late', 1:'CI'}, inplace = True)\n",
        "  return ret\n",
        "variables = ['all', 'injury', 'alcohol']\n",
        "local_linear_estimator(processed, 1, variables)"
      ]
    },
    {
      "cell_type": "code",
      "execution_count": 22,
      "metadata": {
        "colab": {
          "base_uri": "https://localhost:8080/",
          "height": 161
        },
        "id": "9bGJuQV9oEjW",
        "outputId": "88127437-ff0e-4dbb-e0e2-17169b18ed73"
      },
      "outputs": [
        {
          "name": "stdout",
          "output_type": "stream",
          "text": [
            "---------bandwidth = 0.5 year(s)----------------\n"
          ]
        },
        {
          "data": {
            "text/html": [
              "\n",
              "  <div id=\"df-c7ce0ec7-3ac3-46d3-a187-c80e9f75ff5c\">\n",
              "    <div class=\"colab-df-container\">\n",
              "      <div>\n",
              "<style scoped>\n",
              "    .dataframe tbody tr th:only-of-type {\n",
              "        vertical-align: middle;\n",
              "    }\n",
              "\n",
              "    .dataframe tbody tr th {\n",
              "        vertical-align: top;\n",
              "    }\n",
              "\n",
              "    .dataframe thead th {\n",
              "        text-align: right;\n",
              "    }\n",
              "</style>\n",
              "<table border=\"1\" class=\"dataframe\">\n",
              "  <thead>\n",
              "    <tr style=\"text-align: right;\">\n",
              "      <th></th>\n",
              "      <th>late</th>\n",
              "      <th>CI</th>\n",
              "    </tr>\n",
              "  </thead>\n",
              "  <tbody>\n",
              "    <tr>\n",
              "      <th>all</th>\n",
              "      <td>80.884635</td>\n",
              "      <td>[25.5371016495165, 136.23216867472087]</td>\n",
              "    </tr>\n",
              "    <tr>\n",
              "      <th>injury</th>\n",
              "      <td>29.752667</td>\n",
              "      <td>[2.885209836678616, 56.62012456522932]</td>\n",
              "    </tr>\n",
              "    <tr>\n",
              "      <th>alcohol</th>\n",
              "      <td>31.611485</td>\n",
              "      <td>[-7.59727738588748, 70.82024751045725]</td>\n",
              "    </tr>\n",
              "  </tbody>\n",
              "</table>\n",
              "</div>\n",
              "      <button class=\"colab-df-convert\" onclick=\"convertToInteractive('df-c7ce0ec7-3ac3-46d3-a187-c80e9f75ff5c')\"\n",
              "              title=\"Convert this dataframe to an interactive table.\"\n",
              "              style=\"display:none;\">\n",
              "        \n",
              "  <svg xmlns=\"http://www.w3.org/2000/svg\" height=\"24px\"viewBox=\"0 0 24 24\"\n",
              "       width=\"24px\">\n",
              "    <path d=\"M0 0h24v24H0V0z\" fill=\"none\"/>\n",
              "    <path d=\"M18.56 5.44l.94 2.06.94-2.06 2.06-.94-2.06-.94-.94-2.06-.94 2.06-2.06.94zm-11 1L8.5 8.5l.94-2.06 2.06-.94-2.06-.94L8.5 2.5l-.94 2.06-2.06.94zm10 10l.94 2.06.94-2.06 2.06-.94-2.06-.94-.94-2.06-.94 2.06-2.06.94z\"/><path d=\"M17.41 7.96l-1.37-1.37c-.4-.4-.92-.59-1.43-.59-.52 0-1.04.2-1.43.59L10.3 9.45l-7.72 7.72c-.78.78-.78 2.05 0 2.83L4 21.41c.39.39.9.59 1.41.59.51 0 1.02-.2 1.41-.59l7.78-7.78 2.81-2.81c.8-.78.8-2.07 0-2.86zM5.41 20L4 18.59l7.72-7.72 1.47 1.35L5.41 20z\"/>\n",
              "  </svg>\n",
              "      </button>\n",
              "      \n",
              "  <style>\n",
              "    .colab-df-container {\n",
              "      display:flex;\n",
              "      flex-wrap:wrap;\n",
              "      gap: 12px;\n",
              "    }\n",
              "\n",
              "    .colab-df-convert {\n",
              "      background-color: #E8F0FE;\n",
              "      border: none;\n",
              "      border-radius: 50%;\n",
              "      cursor: pointer;\n",
              "      display: none;\n",
              "      fill: #1967D2;\n",
              "      height: 32px;\n",
              "      padding: 0 0 0 0;\n",
              "      width: 32px;\n",
              "    }\n",
              "\n",
              "    .colab-df-convert:hover {\n",
              "      background-color: #E2EBFA;\n",
              "      box-shadow: 0px 1px 2px rgba(60, 64, 67, 0.3), 0px 1px 3px 1px rgba(60, 64, 67, 0.15);\n",
              "      fill: #174EA6;\n",
              "    }\n",
              "\n",
              "    [theme=dark] .colab-df-convert {\n",
              "      background-color: #3B4455;\n",
              "      fill: #D2E3FC;\n",
              "    }\n",
              "\n",
              "    [theme=dark] .colab-df-convert:hover {\n",
              "      background-color: #434B5C;\n",
              "      box-shadow: 0px 1px 3px 1px rgba(0, 0, 0, 0.15);\n",
              "      filter: drop-shadow(0px 1px 2px rgba(0, 0, 0, 0.3));\n",
              "      fill: #FFFFFF;\n",
              "    }\n",
              "  </style>\n",
              "\n",
              "      <script>\n",
              "        const buttonEl =\n",
              "          document.querySelector('#df-c7ce0ec7-3ac3-46d3-a187-c80e9f75ff5c button.colab-df-convert');\n",
              "        buttonEl.style.display =\n",
              "          google.colab.kernel.accessAllowed ? 'block' : 'none';\n",
              "\n",
              "        async function convertToInteractive(key) {\n",
              "          const element = document.querySelector('#df-c7ce0ec7-3ac3-46d3-a187-c80e9f75ff5c');\n",
              "          const dataTable =\n",
              "            await google.colab.kernel.invokeFunction('convertToInteractive',\n",
              "                                                     [key], {});\n",
              "          if (!dataTable) return;\n",
              "\n",
              "          const docLinkHtml = 'Like what you see? Visit the ' +\n",
              "            '<a target=\"_blank\" href=https://colab.research.google.com/notebooks/data_table.ipynb>data table notebook</a>'\n",
              "            + ' to learn more about interactive tables.';\n",
              "          element.innerHTML = '';\n",
              "          dataTable['output_type'] = 'display_data';\n",
              "          await google.colab.output.renderOutput(dataTable, element);\n",
              "          const docLink = document.createElement('div');\n",
              "          docLink.innerHTML = docLinkHtml;\n",
              "          element.appendChild(docLink);\n",
              "        }\n",
              "      </script>\n",
              "    </div>\n",
              "  </div>\n",
              "  "
            ],
            "text/plain": [
              "              late                                      CI\n",
              "all      80.884635  [25.5371016495165, 136.23216867472087]\n",
              "injury   29.752667  [2.885209836678616, 56.62012456522932]\n",
              "alcohol  31.611485  [-7.59727738588748, 70.82024751045725]"
            ]
          },
          "execution_count": 22,
          "metadata": {},
          "output_type": "execute_result"
        }
      ],
      "source": [
        "local_linear_estimator(processed, 0.5, variables)"
      ]
    },
    {
      "cell_type": "code",
      "execution_count": 23,
      "metadata": {
        "colab": {
          "base_uri": "https://localhost:8080/",
          "height": 161
        },
        "id": "c_fw-bFmvz-q",
        "outputId": "b978eb17-641f-4e7f-d9e5-ae92bcd535d3"
      },
      "outputs": [
        {
          "name": "stdout",
          "output_type": "stream",
          "text": [
            "---------bandwidth = 2 year(s)----------------\n"
          ]
        },
        {
          "data": {
            "text/html": [
              "\n",
              "  <div id=\"df-effc3685-d870-4a4a-b5f8-6e53b2f1480d\">\n",
              "    <div class=\"colab-df-container\">\n",
              "      <div>\n",
              "<style scoped>\n",
              "    .dataframe tbody tr th:only-of-type {\n",
              "        vertical-align: middle;\n",
              "    }\n",
              "\n",
              "    .dataframe tbody tr th {\n",
              "        vertical-align: top;\n",
              "    }\n",
              "\n",
              "    .dataframe thead th {\n",
              "        text-align: right;\n",
              "    }\n",
              "</style>\n",
              "<table border=\"1\" class=\"dataframe\">\n",
              "  <thead>\n",
              "    <tr style=\"text-align: right;\">\n",
              "      <th></th>\n",
              "      <th>late</th>\n",
              "      <th>CI</th>\n",
              "    </tr>\n",
              "  </thead>\n",
              "  <tbody>\n",
              "    <tr>\n",
              "      <th>all</th>\n",
              "      <td>80.189305</td>\n",
              "      <td>[59.22786045309181, 101.15074862909444]</td>\n",
              "    </tr>\n",
              "    <tr>\n",
              "      <th>injury</th>\n",
              "      <td>12.915956</td>\n",
              "      <td>[1.7193036320130783, 24.112607562374635]</td>\n",
              "    </tr>\n",
              "    <tr>\n",
              "      <th>alcohol</th>\n",
              "      <td>21.124064</td>\n",
              "      <td>[11.561147074534, 30.686981100779448]</td>\n",
              "    </tr>\n",
              "  </tbody>\n",
              "</table>\n",
              "</div>\n",
              "      <button class=\"colab-df-convert\" onclick=\"convertToInteractive('df-effc3685-d870-4a4a-b5f8-6e53b2f1480d')\"\n",
              "              title=\"Convert this dataframe to an interactive table.\"\n",
              "              style=\"display:none;\">\n",
              "        \n",
              "  <svg xmlns=\"http://www.w3.org/2000/svg\" height=\"24px\"viewBox=\"0 0 24 24\"\n",
              "       width=\"24px\">\n",
              "    <path d=\"M0 0h24v24H0V0z\" fill=\"none\"/>\n",
              "    <path d=\"M18.56 5.44l.94 2.06.94-2.06 2.06-.94-2.06-.94-.94-2.06-.94 2.06-2.06.94zm-11 1L8.5 8.5l.94-2.06 2.06-.94-2.06-.94L8.5 2.5l-.94 2.06-2.06.94zm10 10l.94 2.06.94-2.06 2.06-.94-2.06-.94-.94-2.06-.94 2.06-2.06.94z\"/><path d=\"M17.41 7.96l-1.37-1.37c-.4-.4-.92-.59-1.43-.59-.52 0-1.04.2-1.43.59L10.3 9.45l-7.72 7.72c-.78.78-.78 2.05 0 2.83L4 21.41c.39.39.9.59 1.41.59.51 0 1.02-.2 1.41-.59l7.78-7.78 2.81-2.81c.8-.78.8-2.07 0-2.86zM5.41 20L4 18.59l7.72-7.72 1.47 1.35L5.41 20z\"/>\n",
              "  </svg>\n",
              "      </button>\n",
              "      \n",
              "  <style>\n",
              "    .colab-df-container {\n",
              "      display:flex;\n",
              "      flex-wrap:wrap;\n",
              "      gap: 12px;\n",
              "    }\n",
              "\n",
              "    .colab-df-convert {\n",
              "      background-color: #E8F0FE;\n",
              "      border: none;\n",
              "      border-radius: 50%;\n",
              "      cursor: pointer;\n",
              "      display: none;\n",
              "      fill: #1967D2;\n",
              "      height: 32px;\n",
              "      padding: 0 0 0 0;\n",
              "      width: 32px;\n",
              "    }\n",
              "\n",
              "    .colab-df-convert:hover {\n",
              "      background-color: #E2EBFA;\n",
              "      box-shadow: 0px 1px 2px rgba(60, 64, 67, 0.3), 0px 1px 3px 1px rgba(60, 64, 67, 0.15);\n",
              "      fill: #174EA6;\n",
              "    }\n",
              "\n",
              "    [theme=dark] .colab-df-convert {\n",
              "      background-color: #3B4455;\n",
              "      fill: #D2E3FC;\n",
              "    }\n",
              "\n",
              "    [theme=dark] .colab-df-convert:hover {\n",
              "      background-color: #434B5C;\n",
              "      box-shadow: 0px 1px 3px 1px rgba(0, 0, 0, 0.15);\n",
              "      filter: drop-shadow(0px 1px 2px rgba(0, 0, 0, 0.3));\n",
              "      fill: #FFFFFF;\n",
              "    }\n",
              "  </style>\n",
              "\n",
              "      <script>\n",
              "        const buttonEl =\n",
              "          document.querySelector('#df-effc3685-d870-4a4a-b5f8-6e53b2f1480d button.colab-df-convert');\n",
              "        buttonEl.style.display =\n",
              "          google.colab.kernel.accessAllowed ? 'block' : 'none';\n",
              "\n",
              "        async function convertToInteractive(key) {\n",
              "          const element = document.querySelector('#df-effc3685-d870-4a4a-b5f8-6e53b2f1480d');\n",
              "          const dataTable =\n",
              "            await google.colab.kernel.invokeFunction('convertToInteractive',\n",
              "                                                     [key], {});\n",
              "          if (!dataTable) return;\n",
              "\n",
              "          const docLinkHtml = 'Like what you see? Visit the ' +\n",
              "            '<a target=\"_blank\" href=https://colab.research.google.com/notebooks/data_table.ipynb>data table notebook</a>'\n",
              "            + ' to learn more about interactive tables.';\n",
              "          element.innerHTML = '';\n",
              "          dataTable['output_type'] = 'display_data';\n",
              "          await google.colab.output.renderOutput(dataTable, element);\n",
              "          const docLink = document.createElement('div');\n",
              "          docLink.innerHTML = docLinkHtml;\n",
              "          element.appendChild(docLink);\n",
              "        }\n",
              "      </script>\n",
              "    </div>\n",
              "  </div>\n",
              "  "
            ],
            "text/plain": [
              "              late                                        CI\n",
              "all      80.189305   [59.22786045309181, 101.15074862909444]\n",
              "injury   12.915956  [1.7193036320130783, 24.112607562374635]\n",
              "alcohol  21.124064     [11.561147074534, 30.686981100779448]"
            ]
          },
          "execution_count": 23,
          "metadata": {},
          "output_type": "execute_result"
        }
      ],
      "source": [
        "local_linear_estimator(processed, 2, variables)"
      ]
    },
    {
      "cell_type": "markdown",
      "metadata": {
        "id": "ge7zHrRYxGV0"
      },
      "source": [
        "The `all` variable seems to be associated with the largest effect, since its late estimate is larger compared with `injury` and `alcohol` for all bandwidth chosen. \n",
        "\n",
        "As bandwidth increase from 0.5 year to 2 years, the estimated effect on number of admissions related to `all` fluctuates from 80 to 79 to 80. The estimated effect on number of admissions related to `injury` decreases from positive 30 to 25 to 13. The estimated effect on number of admissions related to `alcohol` decreases from 31 to 26 to 21. For all of the three variables, the effect is in positive direction and the confidence interval of late gets narrower as bandwidth increases. With a larger bandwidth, we get a robust model in estimating the effect of being legal to purchase alcohol on the number of hospital admissions related to alcohol, but the difference at the cut-off point may not reflect the local behavior around the discontinuity point, and bias the estimate. "
      ]
    },
    {
      "cell_type": "markdown",
      "metadata": {
        "id": "ParjCYUUy7m1"
      },
      "source": [
        "## Question3:\n",
        "Using the entire dataset (no need to aggregate), create and show RDD plots that visualize the discontinuity for each of the three outcome variables used in Question 1. The plots should display observed points, regression lines, and vertical lines to indicate the bandwidth. "
      ]
    },
    {
      "cell_type": "code",
      "execution_count": 24,
      "metadata": {
        "colab": {
          "base_uri": "https://localhost:8080/",
          "height": 868
        },
        "id": "3z5pwNZzv5fE",
        "outputId": "b6b0fca2-2c7c-481e-f5dd-aa289a52bf0c"
      },
      "outputs": [
        {
          "name": "stdout",
          "output_type": "stream",
          "text": [
            "---------bandwidth = 1 year(s)----------------\n"
          ]
        },
        {
          "data": {
            "image/png": "[encoded data removed]",
            "text/plain": [
              "<Figure size 432x288 with 1 Axes>"
            ]
          },
          "metadata": {
            "needs_background": "light"
          },
          "output_type": "display_data"
        },
        {
          "data": {
            "image/png": "[encoded data removed]",
            "text/plain": [
              "<Figure size 432x288 with 1 Axes>"
            ]
          },
          "metadata": {
            "needs_background": "light"
          },
          "output_type": "display_data"
        },
        {
          "data": {
            "image/png": "[encoded data removed]",
            "text/plain": [
              "<Figure size 432x288 with 1 Axes>"
            ]
          },
          "metadata": {
            "needs_background": "light"
          },
          "output_type": "display_data"
        }
      ],
      "source": [
        "res = local_linear_estimator(processed, 1, variables, plot = True)"
      ]
    },
    {
      "cell_type": "code",
      "execution_count": 25,
      "metadata": {
        "colab": {
          "base_uri": "https://localhost:8080/",
          "height": 868
        },
        "id": "P2yBJTqd2LpD",
        "outputId": "db1c8435-89b1-433b-c2ce-c76238edf452"
      },
      "outputs": [
        {
          "name": "stdout",
          "output_type": "stream",
          "text": [
            "---------bandwidth = 0.5 year(s)----------------\n"
          ]
        },
        {
          "data": {
            "image/png": "[encoded data removed]",
            "text/plain": [
              "<Figure size 432x288 with 1 Axes>"
            ]
          },
          "metadata": {
            "needs_background": "light"
          },
          "output_type": "display_data"
        },
        {
          "data": {
            "image/png": "[encoded data removed]",
            "text/plain": [
              "<Figure size 432x288 with 1 Axes>"
            ]
          },
          "metadata": {
            "needs_background": "light"
          },
          "output_type": "display_data"
        },
        {
          "data": {
            "image/png": "[encoded data removed]",
            "text/plain": [
              "<Figure size 432x288 with 1 Axes>"
            ]
          },
          "metadata": {
            "needs_background": "light"
          },
          "output_type": "display_data"
        }
      ],
      "source": [
        "res = local_linear_estimator(processed, 0.5, variables, plot = True)"
      ]
    },
    {
      "cell_type": "code",
      "execution_count": 26,
      "metadata": {
        "colab": {
          "base_uri": "https://localhost:8080/",
          "height": 868
        },
        "id": "YNSyIKJJKtBs",
        "outputId": "74ed7516-4401-4a8c-b2f9-2e635d23fce0"
      },
      "outputs": [
        {
          "name": "stdout",
          "output_type": "stream",
          "text": [
            "---------bandwidth = 2 year(s)----------------\n"
          ]
        },
        {
          "data": {
            "image/png": "[encoded data removed]",
            "text/plain": [
              "<Figure size 432x288 with 1 Axes>"
            ]
          },
          "metadata": {
            "needs_background": "light"
          },
          "output_type": "display_data"
        },
        {
          "data": {
            "image/png": "[encoded data removed]",
            "text/plain": [
              "<Figure size 432x288 with 1 Axes>"
            ]
          },
          "metadata": {
            "needs_background": "light"
          },
          "output_type": "display_data"
        },
        {
          "data": {
            "image/png": "[encoded data removed]",
            "text/plain": [
              "<Figure size 432x288 with 1 Axes>"
            ]
          },
          "metadata": {
            "needs_background": "light"
          },
          "output_type": "display_data"
        }
      ],
      "source": [
        "res = local_linear_estimator(processed, 2, variables, plot = True)"
      ]
    },
    {
      "cell_type": "markdown",
      "metadata": {
        "id": "S6kwS5nJK6cx"
      },
      "source": [
        "## Question4:\n",
        "Conduct a placebo RDD analysis using the `illness` variable as outcome: since viral illnesses are not caused by alcohol consumption, we have no reason to expect that being legally able to drink will have an effect on this variable. Report both RDD estimates and 95% CIs, and make a RDD plot for this outcome variable. Is there a treatment effect and is it statistically significant? What does this suggest about the plausibility of the RDD assumptions?"
      ]
    },
    {
      "cell_type": "code",
      "execution_count": 29,
      "metadata": {
        "colab": {
          "base_uri": "https://localhost:8080/",
          "height": 376
        },
        "id": "regRn3bgKOFv",
        "outputId": "80c25b38-c671-4282-cb8e-05429d34efd1"
      },
      "outputs": [
        {
          "name": "stdout",
          "output_type": "stream",
          "text": [
            "---------bandwidth = 0.5 year(s)----------------\n"
          ]
        },
        {
          "data": {
            "image/png": "[encoded data removed]",
            "text/plain": [
              "<Figure size 432x288 with 1 Axes>"
            ]
          },
          "metadata": {
            "needs_background": "light"
          },
          "output_type": "display_data"
        },
        {
          "data": {
            "text/html": [
              "\n",
              "  <div id=\"df-a50906de-35eb-423d-90ff-0d6168430df2\">\n",
              "    <div class=\"colab-df-container\">\n",
              "      <div>\n",
              "<style scoped>\n",
              "    .dataframe tbody tr th:only-of-type {\n",
              "        vertical-align: middle;\n",
              "    }\n",
              "\n",
              "    .dataframe tbody tr th {\n",
              "        vertical-align: top;\n",
              "    }\n",
              "\n",
              "    .dataframe thead th {\n",
              "        text-align: right;\n",
              "    }\n",
              "</style>\n",
              "<table border=\"1\" class=\"dataframe\">\n",
              "  <thead>\n",
              "    <tr style=\"text-align: right;\">\n",
              "      <th></th>\n",
              "      <th>late</th>\n",
              "      <th>CI</th>\n",
              "    </tr>\n",
              "  </thead>\n",
              "  <tbody>\n",
              "    <tr>\n",
              "      <th>illness</th>\n",
              "      <td>21.500906</td>\n",
              "      <td>[-11.097027644895036, 54.09883897893434]</td>\n",
              "    </tr>\n",
              "  </tbody>\n",
              "</table>\n",
              "</div>\n",
              "      <button class=\"colab-df-convert\" onclick=\"convertToInteractive('df-a50906de-35eb-423d-90ff-0d6168430df2')\"\n",
              "              title=\"Convert this dataframe to an interactive table.\"\n",
              "              style=\"display:none;\">\n",
              "        \n",
              "  <svg xmlns=\"http://www.w3.org/2000/svg\" height=\"24px\"viewBox=\"0 0 24 24\"\n",
              "       width=\"24px\">\n",
              "    <path d=\"M0 0h24v24H0V0z\" fill=\"none\"/>\n",
              "    <path d=\"M18.56 5.44l.94 2.06.94-2.06 2.06-.94-2.06-.94-.94-2.06-.94 2.06-2.06.94zm-11 1L8.5 8.5l.94-2.06 2.06-.94-2.06-.94L8.5 2.5l-.94 2.06-2.06.94zm10 10l.94 2.06.94-2.06 2.06-.94-2.06-.94-.94-2.06-.94 2.06-2.06.94z\"/><path d=\"M17.41 7.96l-1.37-1.37c-.4-.4-.92-.59-1.43-.59-.52 0-1.04.2-1.43.59L10.3 9.45l-7.72 7.72c-.78.78-.78 2.05 0 2.83L4 21.41c.39.39.9.59 1.41.59.51 0 1.02-.2 1.41-.59l7.78-7.78 2.81-2.81c.8-.78.8-2.07 0-2.86zM5.41 20L4 18.59l7.72-7.72 1.47 1.35L5.41 20z\"/>\n",
              "  </svg>\n",
              "      </button>\n",
              "      \n",
              "  <style>\n",
              "    .colab-df-container {\n",
              "      display:flex;\n",
              "      flex-wrap:wrap;\n",
              "      gap: 12px;\n",
              "    }\n",
              "\n",
              "    .colab-df-convert {\n",
              "      background-color: #E8F0FE;\n",
              "      border: none;\n",
              "      border-radius: 50%;\n",
              "      cursor: pointer;\n",
              "      display: none;\n",
              "      fill: #1967D2;\n",
              "      height: 32px;\n",
              "      padding: 0 0 0 0;\n",
              "      width: 32px;\n",
              "    }\n",
              "\n",
              "    .colab-df-convert:hover {\n",
              "      background-color: #E2EBFA;\n",
              "      box-shadow: 0px 1px 2px rgba(60, 64, 67, 0.3), 0px 1px 3px 1px rgba(60, 64, 67, 0.15);\n",
              "      fill: #174EA6;\n",
              "    }\n",
              "\n",
              "    [theme=dark] .colab-df-convert {\n",
              "      background-color: #3B4455;\n",
              "      fill: #D2E3FC;\n",
              "    }\n",
              "\n",
              "    [theme=dark] .colab-df-convert:hover {\n",
              "      background-color: #434B5C;\n",
              "      box-shadow: 0px 1px 3px 1px rgba(0, 0, 0, 0.15);\n",
              "      filter: drop-shadow(0px 1px 2px rgba(0, 0, 0, 0.3));\n",
              "      fill: #FFFFFF;\n",
              "    }\n",
              "  </style>\n",
              "\n",
              "      <script>\n",
              "        const buttonEl =\n",
              "          document.querySelector('#df-a50906de-35eb-423d-90ff-0d6168430df2 button.colab-df-convert');\n",
              "        buttonEl.style.display =\n",
              "          google.colab.kernel.accessAllowed ? 'block' : 'none';\n",
              "\n",
              "        async function convertToInteractive(key) {\n",
              "          const element = document.querySelector('#df-a50906de-35eb-423d-90ff-0d6168430df2');\n",
              "          const dataTable =\n",
              "            await google.colab.kernel.invokeFunction('convertToInteractive',\n",
              "                                                     [key], {});\n",
              "          if (!dataTable) return;\n",
              "\n",
              "          const docLinkHtml = 'Like what you see? Visit the ' +\n",
              "            '<a target=\"_blank\" href=https://colab.research.google.com/notebooks/data_table.ipynb>data table notebook</a>'\n",
              "            + ' to learn more about interactive tables.';\n",
              "          element.innerHTML = '';\n",
              "          dataTable['output_type'] = 'display_data';\n",
              "          await google.colab.output.renderOutput(dataTable, element);\n",
              "          const docLink = document.createElement('div');\n",
              "          docLink.innerHTML = docLinkHtml;\n",
              "          element.appendChild(docLink);\n",
              "        }\n",
              "      </script>\n",
              "    </div>\n",
              "  </div>\n",
              "  "
            ],
            "text/plain": [
              "              late                                        CI\n",
              "illness  21.500906  [-11.097027644895036, 54.09883897893434]"
            ]
          },
          "execution_count": 29,
          "metadata": {},
          "output_type": "execute_result"
        }
      ],
      "source": [
        "local_linear_estimator(processed,0.5 , ['illness'], plot = True)"
      ]
    },
    {
      "cell_type": "markdown",
      "metadata": {
        "id": "8xhDR6slM5U6"
      },
      "source": [
        "To examine the RDD assumption, we need to check if there is a significant difference in viral illnesses admission when age is just below 21 and just above 21. If using a bandwidth of 0.5 years, there is a positive treatment effect of 21.5, but we cannot conclude that it is statistically significant as 0 is contained in its confidence interval. In this case, the RDD assumption is plausible, as the assumption requires no significant differences in outcome (`illness` in this case) between both sides of the cut-off. \n",
        "\n",
        "However, note that if using a bandwidth of 1 year, there is a significant treatment effect since 0 is now not contained in the confidence interval. In this case the RDD assumption is violated. \n",
        "\n",
        "In general, whether the RDD assumption is plausible depends on the bandwidth chosen, the smaller the bandwidth, the higher the variance and lower the bias. Only when the confidence interval contains 0 with the bandwidth chosen, we can say the RDD is plausible. "
      ]
    },
    {
      "cell_type": "code",
      "execution_count": 30,
      "metadata": {
        "colab": {
          "base_uri": "https://localhost:8080/",
          "height": 376
        },
        "id": "RAcHBKFpRnVk",
        "outputId": "e1525df1-b4a1-464f-8b58-d0fb56f3ca56"
      },
      "outputs": [
        {
          "name": "stdout",
          "output_type": "stream",
          "text": [
            "---------bandwidth = 1 year(s)----------------\n"
          ]
        },
        {
          "data": {
            "image/png": "[encoded data removed]",
            "text/plain": [
              "<Figure size 432x288 with 1 Axes>"
            ]
          },
          "metadata": {
            "needs_background": "light"
          },
          "output_type": "display_data"
        },
        {
          "data": {
            "text/html": [
              "\n",
              "  <div id=\"df-54717792-ab1b-40b9-977b-2a148fda9c05\">\n",
              "    <div class=\"colab-df-container\">\n",
              "      <div>\n",
              "<style scoped>\n",
              "    .dataframe tbody tr th:only-of-type {\n",
              "        vertical-align: middle;\n",
              "    }\n",
              "\n",
              "    .dataframe tbody tr th {\n",
              "        vertical-align: top;\n",
              "    }\n",
              "\n",
              "    .dataframe thead th {\n",
              "        text-align: right;\n",
              "    }\n",
              "</style>\n",
              "<table border=\"1\" class=\"dataframe\">\n",
              "  <thead>\n",
              "    <tr style=\"text-align: right;\">\n",
              "      <th></th>\n",
              "      <th>late</th>\n",
              "      <th>CI</th>\n",
              "    </tr>\n",
              "  </thead>\n",
              "  <tbody>\n",
              "    <tr>\n",
              "      <th>illness</th>\n",
              "      <td>28.407568</td>\n",
              "      <td>[7.621335159322303, 49.1938008958809]</td>\n",
              "    </tr>\n",
              "  </tbody>\n",
              "</table>\n",
              "</div>\n",
              "      <button class=\"colab-df-convert\" onclick=\"convertToInteractive('df-54717792-ab1b-40b9-977b-2a148fda9c05')\"\n",
              "              title=\"Convert this dataframe to an interactive table.\"\n",
              "              style=\"display:none;\">\n",
              "        \n",
              "  <svg xmlns=\"http://www.w3.org/2000/svg\" height=\"24px\"viewBox=\"0 0 24 24\"\n",
              "       width=\"24px\">\n",
              "    <path d=\"M0 0h24v24H0V0z\" fill=\"none\"/>\n",
              "    <path d=\"M18.56 5.44l.94 2.06.94-2.06 2.06-.94-2.06-.94-.94-2.06-.94 2.06-2.06.94zm-11 1L8.5 8.5l.94-2.06 2.06-.94-2.06-.94L8.5 2.5l-.94 2.06-2.06.94zm10 10l.94 2.06.94-2.06 2.06-.94-2.06-.94-.94-2.06-.94 2.06-2.06.94z\"/><path d=\"M17.41 7.96l-1.37-1.37c-.4-.4-.92-.59-1.43-.59-.52 0-1.04.2-1.43.59L10.3 9.45l-7.72 7.72c-.78.78-.78 2.05 0 2.83L4 21.41c.39.39.9.59 1.41.59.51 0 1.02-.2 1.41-.59l7.78-7.78 2.81-2.81c.8-.78.8-2.07 0-2.86zM5.41 20L4 18.59l7.72-7.72 1.47 1.35L5.41 20z\"/>\n",
              "  </svg>\n",
              "      </button>\n",
              "      \n",
              "  <style>\n",
              "    .colab-df-container {\n",
              "      display:flex;\n",
              "      flex-wrap:wrap;\n",
              "      gap: 12px;\n",
              "    }\n",
              "\n",
              "    .colab-df-convert {\n",
              "      background-color: #E8F0FE;\n",
              "      border: none;\n",
              "      border-radius: 50%;\n",
              "      cursor: pointer;\n",
              "      display: none;\n",
              "      fill: #1967D2;\n",
              "      height: 32px;\n",
              "      padding: 0 0 0 0;\n",
              "      width: 32px;\n",
              "    }\n",
              "\n",
              "    .colab-df-convert:hover {\n",
              "      background-color: #E2EBFA;\n",
              "      box-shadow: 0px 1px 2px rgba(60, 64, 67, 0.3), 0px 1px 3px 1px rgba(60, 64, 67, 0.15);\n",
              "      fill: #174EA6;\n",
              "    }\n",
              "\n",
              "    [theme=dark] .colab-df-convert {\n",
              "      background-color: #3B4455;\n",
              "      fill: #D2E3FC;\n",
              "    }\n",
              "\n",
              "    [theme=dark] .colab-df-convert:hover {\n",
              "      background-color: #434B5C;\n",
              "      box-shadow: 0px 1px 3px 1px rgba(0, 0, 0, 0.15);\n",
              "      filter: drop-shadow(0px 1px 2px rgba(0, 0, 0, 0.3));\n",
              "      fill: #FFFFFF;\n",
              "    }\n",
              "  </style>\n",
              "\n",
              "      <script>\n",
              "        const buttonEl =\n",
              "          document.querySelector('#df-54717792-ab1b-40b9-977b-2a148fda9c05 button.colab-df-convert');\n",
              "        buttonEl.style.display =\n",
              "          google.colab.kernel.accessAllowed ? 'block' : 'none';\n",
              "\n",
              "        async function convertToInteractive(key) {\n",
              "          const element = document.querySelector('#df-54717792-ab1b-40b9-977b-2a148fda9c05');\n",
              "          const dataTable =\n",
              "            await google.colab.kernel.invokeFunction('convertToInteractive',\n",
              "                                                     [key], {});\n",
              "          if (!dataTable) return;\n",
              "\n",
              "          const docLinkHtml = 'Like what you see? Visit the ' +\n",
              "            '<a target=\"_blank\" href=https://colab.research.google.com/notebooks/data_table.ipynb>data table notebook</a>'\n",
              "            + ' to learn more about interactive tables.';\n",
              "          element.innerHTML = '';\n",
              "          dataTable['output_type'] = 'display_data';\n",
              "          await google.colab.output.renderOutput(dataTable, element);\n",
              "          const docLink = document.createElement('div');\n",
              "          docLink.innerHTML = docLinkHtml;\n",
              "          element.appendChild(docLink);\n",
              "        }\n",
              "      </script>\n",
              "    </div>\n",
              "  </div>\n",
              "  "
            ],
            "text/plain": [
              "              late                                     CI\n",
              "illness  28.407568  [7.621335159322303, 49.1938008958809]"
            ]
          },
          "execution_count": 30,
          "metadata": {},
          "output_type": "execute_result"
        }
      ],
      "source": [
        "local_linear_estimator(processed,1 , ['illness'], plot = True)"
      ]
    }
  ],
  "metadata": {
    "colab": {
      "provenance": []
    },
    "kernelspec": {
      "display_name": "Python 3.8.9 64-bit",
      "language": "python",
      "name": "python3"
    },
    "language_info": {
      "name": "python",
      "version": "3.8.9"
    },
    "vscode": {
      "interpreter": {
        "hash": "31f2aee4e71d21fbe5cf8b01ff0e069b9275f58929596ceb00d14d90e3e16cd6"
      }
    }
  },
  "nbformat": 4,
  "nbformat_minor": 0
}
